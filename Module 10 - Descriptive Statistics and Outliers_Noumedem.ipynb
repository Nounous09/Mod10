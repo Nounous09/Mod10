{
 "cells": [
  {
   "cell_type": "markdown",
   "id": "a912cedd",
   "metadata": {},
   "source": [
    "# Module 10: Descriptive Statistics and Outliers\n",
    "***\n",
    "\n",
    "## What are statistics?\n",
    "\n",
    "Statistics deal with collecting informative data, interpreting these data, and drawing conclusions about the data. Statistics are used across multiple disciplines and fuel business and policy decisions.\n",
    "\n",
    "## Two types of statistics\n",
    "***\n",
    "#### Descriptive Statistics\n",
    "Descriptive statistics use numeric and graphical techniques to summarize the characteristics of a set of data and to identify patterns within the dataset. Descriptive statistics also include graphically summarizing data and presenting the information in a meaningful (easy to interpret) way. \n",
    "\n",
    "#### Inferential Statistics\n",
    "Inferential statistics use samples of data to make generalizations about a larger set of data (or a larger population). Inferential statistics use data to make estimates, decisions, and predictions about patterns and trends identified within a set of data. Inferential statistics are used to make conclusions beyond your immediate set of data. "
   ]
  },
  {
   "cell_type": "markdown",
   "id": "e9e11e6c",
   "metadata": {},
   "source": [
    "## Import Libraries and Data"
   ]
  },
  {
   "cell_type": "code",
   "execution_count": 1,
   "id": "aec4bc2e",
   "metadata": {},
   "outputs": [
    {
     "data": {
      "text/html": [
       "<div>\n",
       "<style scoped>\n",
       "    .dataframe tbody tr th:only-of-type {\n",
       "        vertical-align: middle;\n",
       "    }\n",
       "\n",
       "    .dataframe tbody tr th {\n",
       "        vertical-align: top;\n",
       "    }\n",
       "\n",
       "    .dataframe thead th {\n",
       "        text-align: right;\n",
       "    }\n",
       "</style>\n",
       "<table border=\"1\" class=\"dataframe\">\n",
       "  <thead>\n",
       "    <tr style=\"text-align: right;\">\n",
       "      <th></th>\n",
       "      <th>Fname</th>\n",
       "      <th>Lname</th>\n",
       "      <th>Position</th>\n",
       "      <th>Gender</th>\n",
       "      <th>Hours Worked</th>\n",
       "      <th>SalesTraining</th>\n",
       "      <th>Years Experience</th>\n",
       "      <th>Cars Sold</th>\n",
       "    </tr>\n",
       "  </thead>\n",
       "  <tbody>\n",
       "    <tr>\n",
       "      <th>0</th>\n",
       "      <td>Jackie</td>\n",
       "      <td>Jackson</td>\n",
       "      <td>Trainee</td>\n",
       "      <td>F</td>\n",
       "      <td>32</td>\n",
       "      <td>Y</td>\n",
       "      <td>1</td>\n",
       "      <td>3</td>\n",
       "    </tr>\n",
       "    <tr>\n",
       "      <th>1</th>\n",
       "      <td>Mary</td>\n",
       "      <td>Patterson</td>\n",
       "      <td>Trainee</td>\n",
       "      <td>F</td>\n",
       "      <td>43</td>\n",
       "      <td>N</td>\n",
       "      <td>1</td>\n",
       "      <td>6</td>\n",
       "    </tr>\n",
       "    <tr>\n",
       "      <th>2</th>\n",
       "      <td>Tanya</td>\n",
       "      <td>Adams</td>\n",
       "      <td>Trainee</td>\n",
       "      <td>F</td>\n",
       "      <td>28</td>\n",
       "      <td>Y</td>\n",
       "      <td>1</td>\n",
       "      <td>2</td>\n",
       "    </tr>\n",
       "    <tr>\n",
       "      <th>3</th>\n",
       "      <td>Tanya</td>\n",
       "      <td>Henderson</td>\n",
       "      <td>Trainee</td>\n",
       "      <td>F</td>\n",
       "      <td>24</td>\n",
       "      <td>Y</td>\n",
       "      <td>1</td>\n",
       "      <td>5</td>\n",
       "    </tr>\n",
       "    <tr>\n",
       "      <th>4</th>\n",
       "      <td>Walter</td>\n",
       "      <td>Franklin</td>\n",
       "      <td>Trainee</td>\n",
       "      <td>M</td>\n",
       "      <td>25</td>\n",
       "      <td>Y</td>\n",
       "      <td>1</td>\n",
       "      <td>4</td>\n",
       "    </tr>\n",
       "  </tbody>\n",
       "</table>\n",
       "</div>"
      ],
      "text/plain": [
       "    Fname      Lname Position Gender  Hours Worked SalesTraining  \\\n",
       "0  Jackie    Jackson  Trainee      F            32             Y   \n",
       "1    Mary  Patterson  Trainee      F            43             N   \n",
       "2   Tanya      Adams  Trainee      F            28             Y   \n",
       "3   Tanya  Henderson  Trainee      F            24             Y   \n",
       "4  Walter   Franklin  Trainee      M            25             Y   \n",
       "\n",
       "   Years Experience  Cars Sold  \n",
       "0                 1          3  \n",
       "1                 1          6  \n",
       "2                 1          2  \n",
       "3                 1          5  \n",
       "4                 1          4  "
      ]
     },
     "execution_count": 1,
     "metadata": {},
     "output_type": "execute_result"
    }
   ],
   "source": [
    "import pandas as pd\n",
    "import numpy as np\n",
    "import scipy.stats as stats ## new library alert! ##\n",
    "\n",
    "## SciPy is used for scientific and mathematic computing; it provides functions for stats, \n",
    "# data manipulation, and data visualization\n",
    "\n",
    "df = pd.read_excel(\"axisdata.xlsx\")\n",
    "\n",
    "df.head()"
   ]
  },
  {
   "cell_type": "markdown",
   "id": "74df32f8",
   "metadata": {},
   "source": [
    "## Qualitative vs Quantitative Data\n",
    "***\n",
    "\n",
    "#### Quantitative Data\n",
    "Data that are recorded on a numeric scale (i.e. age, weight, salary, number of empty seats on a plane, credit score etc). Quantitative variables are also called <b>numeric</b> variables. \n",
    "\n",
    "#### Qualitative Data\n",
    "Data that cannot be measured on a numeric scale (i.e. eye color, type of car, blood type, race etc). These data can only be classified into one group of categories. Qualitative variables are also called <b>categorical</b> variables. Qualitative data also includes text and string data. "
   ]
  },
  {
   "cell_type": "code",
   "execution_count": 2,
   "id": "3d59351d",
   "metadata": {},
   "outputs": [
    {
     "data": {
      "text/html": [
       "<div>\n",
       "<style scoped>\n",
       "    .dataframe tbody tr th:only-of-type {\n",
       "        vertical-align: middle;\n",
       "    }\n",
       "\n",
       "    .dataframe tbody tr th {\n",
       "        vertical-align: top;\n",
       "    }\n",
       "\n",
       "    .dataframe thead th {\n",
       "        text-align: right;\n",
       "    }\n",
       "</style>\n",
       "<table border=\"1\" class=\"dataframe\">\n",
       "  <thead>\n",
       "    <tr style=\"text-align: right;\">\n",
       "      <th></th>\n",
       "      <th>Fname</th>\n",
       "      <th>Lname</th>\n",
       "      <th>Position</th>\n",
       "      <th>Gender</th>\n",
       "      <th>Hours Worked</th>\n",
       "      <th>SalesTraining</th>\n",
       "      <th>Years Experience</th>\n",
       "      <th>Cars Sold</th>\n",
       "    </tr>\n",
       "  </thead>\n",
       "  <tbody>\n",
       "    <tr>\n",
       "      <th>0</th>\n",
       "      <td>Jackie</td>\n",
       "      <td>Jackson</td>\n",
       "      <td>Trainee</td>\n",
       "      <td>F</td>\n",
       "      <td>32</td>\n",
       "      <td>Y</td>\n",
       "      <td>1</td>\n",
       "      <td>3</td>\n",
       "    </tr>\n",
       "    <tr>\n",
       "      <th>1</th>\n",
       "      <td>Mary</td>\n",
       "      <td>Patterson</td>\n",
       "      <td>Trainee</td>\n",
       "      <td>F</td>\n",
       "      <td>43</td>\n",
       "      <td>N</td>\n",
       "      <td>1</td>\n",
       "      <td>6</td>\n",
       "    </tr>\n",
       "    <tr>\n",
       "      <th>2</th>\n",
       "      <td>Tanya</td>\n",
       "      <td>Adams</td>\n",
       "      <td>Trainee</td>\n",
       "      <td>F</td>\n",
       "      <td>28</td>\n",
       "      <td>Y</td>\n",
       "      <td>1</td>\n",
       "      <td>2</td>\n",
       "    </tr>\n",
       "    <tr>\n",
       "      <th>3</th>\n",
       "      <td>Tanya</td>\n",
       "      <td>Henderson</td>\n",
       "      <td>Trainee</td>\n",
       "      <td>F</td>\n",
       "      <td>24</td>\n",
       "      <td>Y</td>\n",
       "      <td>1</td>\n",
       "      <td>5</td>\n",
       "    </tr>\n",
       "    <tr>\n",
       "      <th>4</th>\n",
       "      <td>Walter</td>\n",
       "      <td>Franklin</td>\n",
       "      <td>Trainee</td>\n",
       "      <td>M</td>\n",
       "      <td>25</td>\n",
       "      <td>Y</td>\n",
       "      <td>1</td>\n",
       "      <td>4</td>\n",
       "    </tr>\n",
       "  </tbody>\n",
       "</table>\n",
       "</div>"
      ],
      "text/plain": [
       "    Fname      Lname Position Gender  Hours Worked SalesTraining  \\\n",
       "0  Jackie    Jackson  Trainee      F            32             Y   \n",
       "1    Mary  Patterson  Trainee      F            43             N   \n",
       "2   Tanya      Adams  Trainee      F            28             Y   \n",
       "3   Tanya  Henderson  Trainee      F            24             Y   \n",
       "4  Walter   Franklin  Trainee      M            25             Y   \n",
       "\n",
       "   Years Experience  Cars Sold  \n",
       "0                 1          3  \n",
       "1                 1          6  \n",
       "2                 1          2  \n",
       "3                 1          5  \n",
       "4                 1          4  "
      ]
     },
     "execution_count": 2,
     "metadata": {},
     "output_type": "execute_result"
    }
   ],
   "source": [
    "## Which variables are qualitative and which variables are quantitative?\n",
    "\n",
    "df.head()"
   ]
  },
  {
   "cell_type": "markdown",
   "id": "50d91d6d",
   "metadata": {},
   "source": [
    "## Describing Qualitative Data\n",
    "***\n",
    "\n",
    "Qualitative data is best summarized by frequency tables. \n",
    "\n",
    "Frequency tables summarize categorical data into a table showing each category, number of observations that fall within each category, and the relative frequency of each category. Also it summarize the number of times the data value occurs.\n",
    "\n",
    "Relative frequency is the number of specific observations out of the total number of observations, or the percentage of the total sample that fall within a specific group. Both representations of categorical data give insight into how common specific categories are within a set of data. \n",
    "\n",
    "<b>Bar charts</b> are ideal for graphically representing qualitative data as they visually show the frequency of observations across various groups. \n",
    "\n",
    "#### GRAPHIC SHOULD READ N = 150 !!!\n",
    "\n",
    "<img src=\"FreqTable.png\">"
   ]
  },
  {
   "cell_type": "code",
   "execution_count": 3,
   "id": "3e690da0",
   "metadata": {},
   "outputs": [
    {
     "data": {
      "text/plain": [
       "M    510\n",
       "F    489\n",
       "Name: Gender, dtype: int64"
      ]
     },
     "execution_count": 3,
     "metadata": {},
     "output_type": "execute_result"
    }
   ],
   "source": [
    "## Frequencies \n",
    "\n",
    "df[\"Gender\"].value_counts()"
   ]
  },
  {
   "cell_type": "code",
   "execution_count": 4,
   "id": "16935be4",
   "metadata": {},
   "outputs": [
    {
     "data": {
      "text/plain": [
       "M    0.510511\n",
       "F    0.489489\n",
       "Name: Gender, dtype: float64"
      ]
     },
     "execution_count": 4,
     "metadata": {},
     "output_type": "execute_result"
    }
   ],
   "source": [
    "## Relative Frequencies \n",
    "\n",
    "df[\"Gender\"].value_counts(normalize=True)"
   ]
  },
  {
   "cell_type": "code",
   "execution_count": 5,
   "id": "cf057364",
   "metadata": {},
   "outputs": [
    {
     "data": {
      "text/html": [
       "<div>\n",
       "<style scoped>\n",
       "    .dataframe tbody tr th:only-of-type {\n",
       "        vertical-align: middle;\n",
       "    }\n",
       "\n",
       "    .dataframe tbody tr th {\n",
       "        vertical-align: top;\n",
       "    }\n",
       "\n",
       "    .dataframe thead th {\n",
       "        text-align: right;\n",
       "    }\n",
       "</style>\n",
       "<table border=\"1\" class=\"dataframe\">\n",
       "  <thead>\n",
       "    <tr style=\"text-align: right;\">\n",
       "      <th>SalesTraining</th>\n",
       "      <th>N</th>\n",
       "      <th>Y</th>\n",
       "    </tr>\n",
       "    <tr>\n",
       "      <th>Gender</th>\n",
       "      <th></th>\n",
       "      <th></th>\n",
       "    </tr>\n",
       "  </thead>\n",
       "  <tbody>\n",
       "    <tr>\n",
       "      <th>F</th>\n",
       "      <td>212</td>\n",
       "      <td>277</td>\n",
       "    </tr>\n",
       "    <tr>\n",
       "      <th>M</th>\n",
       "      <td>201</td>\n",
       "      <td>309</td>\n",
       "    </tr>\n",
       "  </tbody>\n",
       "</table>\n",
       "</div>"
      ],
      "text/plain": [
       "SalesTraining    N    Y\n",
       "Gender                 \n",
       "F              212  277\n",
       "M              201  309"
      ]
     },
     "execution_count": 5,
     "metadata": {},
     "output_type": "execute_result"
    }
   ],
   "source": [
    "## Multi-variable Frequencies \n",
    "\n",
    "pd.crosstab(df[\"Gender\"], df[\"SalesTraining\"], margins=False, normalize=False)"
   ]
  },
  {
   "cell_type": "markdown",
   "id": "a409e75f",
   "metadata": {},
   "source": [
    "# { Exercise 1 }\n",
    "\n",
    "    1. Import the \"pokemon.csv\" file; name the dataset 'poke'. Preview the first 5 rows. \n",
    "    2. Determine the frequencies of unique pokemon types (variable name: Type 1) in this dataset\n",
    "    3. Determine the relative frequencies of the unique pokemon types (variable name: Type 1) in this dataset\n",
    "    4. Create a crosstabs table that shows the frequency of pokemon stage (variable name: Stage) and legendary status (variable name: Legendary). "
   ]
  },
  {
   "cell_type": "code",
   "execution_count": 6,
   "id": "77110b4a",
   "metadata": {},
   "outputs": [
    {
     "data": {
      "text/html": [
       "<div>\n",
       "<style scoped>\n",
       "    .dataframe tbody tr th:only-of-type {\n",
       "        vertical-align: middle;\n",
       "    }\n",
       "\n",
       "    .dataframe tbody tr th {\n",
       "        vertical-align: top;\n",
       "    }\n",
       "\n",
       "    .dataframe thead th {\n",
       "        text-align: right;\n",
       "    }\n",
       "</style>\n",
       "<table border=\"1\" class=\"dataframe\">\n",
       "  <thead>\n",
       "    <tr style=\"text-align: right;\">\n",
       "      <th></th>\n",
       "      <th>Num</th>\n",
       "      <th>Name</th>\n",
       "      <th>Type 1</th>\n",
       "      <th>Type 2</th>\n",
       "      <th>Total</th>\n",
       "      <th>HP</th>\n",
       "      <th>Attack</th>\n",
       "      <th>Defense</th>\n",
       "      <th>SpAtk</th>\n",
       "      <th>SpDef</th>\n",
       "      <th>Speed</th>\n",
       "      <th>Stage</th>\n",
       "      <th>Legendary</th>\n",
       "    </tr>\n",
       "  </thead>\n",
       "  <tbody>\n",
       "    <tr>\n",
       "      <th>0</th>\n",
       "      <td>1</td>\n",
       "      <td>Bulbasaur</td>\n",
       "      <td>Grass</td>\n",
       "      <td>Poison</td>\n",
       "      <td>318</td>\n",
       "      <td>45</td>\n",
       "      <td>49</td>\n",
       "      <td>49</td>\n",
       "      <td>65</td>\n",
       "      <td>65</td>\n",
       "      <td>45</td>\n",
       "      <td>1</td>\n",
       "      <td>False</td>\n",
       "    </tr>\n",
       "    <tr>\n",
       "      <th>1</th>\n",
       "      <td>2</td>\n",
       "      <td>Ivysaur</td>\n",
       "      <td>Grass</td>\n",
       "      <td>Poison</td>\n",
       "      <td>405</td>\n",
       "      <td>60</td>\n",
       "      <td>62</td>\n",
       "      <td>63</td>\n",
       "      <td>80</td>\n",
       "      <td>80</td>\n",
       "      <td>60</td>\n",
       "      <td>2</td>\n",
       "      <td>False</td>\n",
       "    </tr>\n",
       "    <tr>\n",
       "      <th>2</th>\n",
       "      <td>3</td>\n",
       "      <td>Venusaur</td>\n",
       "      <td>Grass</td>\n",
       "      <td>Poison</td>\n",
       "      <td>525</td>\n",
       "      <td>80</td>\n",
       "      <td>82</td>\n",
       "      <td>83</td>\n",
       "      <td>100</td>\n",
       "      <td>100</td>\n",
       "      <td>80</td>\n",
       "      <td>3</td>\n",
       "      <td>False</td>\n",
       "    </tr>\n",
       "    <tr>\n",
       "      <th>3</th>\n",
       "      <td>4</td>\n",
       "      <td>Charmander</td>\n",
       "      <td>Fire</td>\n",
       "      <td>NaN</td>\n",
       "      <td>309</td>\n",
       "      <td>39</td>\n",
       "      <td>52</td>\n",
       "      <td>43</td>\n",
       "      <td>60</td>\n",
       "      <td>50</td>\n",
       "      <td>65</td>\n",
       "      <td>1</td>\n",
       "      <td>False</td>\n",
       "    </tr>\n",
       "    <tr>\n",
       "      <th>4</th>\n",
       "      <td>5</td>\n",
       "      <td>Charmeleon</td>\n",
       "      <td>Fire</td>\n",
       "      <td>NaN</td>\n",
       "      <td>405</td>\n",
       "      <td>58</td>\n",
       "      <td>64</td>\n",
       "      <td>58</td>\n",
       "      <td>80</td>\n",
       "      <td>65</td>\n",
       "      <td>80</td>\n",
       "      <td>2</td>\n",
       "      <td>False</td>\n",
       "    </tr>\n",
       "  </tbody>\n",
       "</table>\n",
       "</div>"
      ],
      "text/plain": [
       "   Num        Name Type 1  Type 2  Total  HP  Attack  Defense  SpAtk  SpDef  \\\n",
       "0    1   Bulbasaur  Grass  Poison    318  45      49       49     65     65   \n",
       "1    2     Ivysaur  Grass  Poison    405  60      62       63     80     80   \n",
       "2    3    Venusaur  Grass  Poison    525  80      82       83    100    100   \n",
       "3    4  Charmander   Fire     NaN    309  39      52       43     60     50   \n",
       "4    5  Charmeleon   Fire     NaN    405  58      64       58     80     65   \n",
       "\n",
       "   Speed  Stage  Legendary  \n",
       "0     45      1      False  \n",
       "1     60      2      False  \n",
       "2     80      3      False  \n",
       "3     65      1      False  \n",
       "4     80      2      False  "
      ]
     },
     "execution_count": 6,
     "metadata": {},
     "output_type": "execute_result"
    }
   ],
   "source": [
    "import pandas as pd\n",
    "import numpy as np\n",
    "import scipy.stats as stats\n",
    "\n",
    "poke = pd.read_csv(\"pokemon.csv\")\n",
    "\n",
    "poke.head()"
   ]
  },
  {
   "cell_type": "code",
   "execution_count": 7,
   "id": "14a6a3d0",
   "metadata": {},
   "outputs": [
    {
     "data": {
      "text/plain": [
       "Water       28\n",
       "Normal      22\n",
       "Poison      14\n",
       "Grass       12\n",
       "Fire        12\n",
       "Bug         12\n",
       "Electric     9\n",
       "Rock         9\n",
       "Ground       8\n",
       "Psychic      8\n",
       "Fighting     7\n",
       "Ghost        3\n",
       "Dragon       3\n",
       "Fairy        2\n",
       "Ice          2\n",
       "Name: Type 1, dtype: int64"
      ]
     },
     "execution_count": 7,
     "metadata": {},
     "output_type": "execute_result"
    }
   ],
   "source": [
    "#Determine the frequencies of unique pokemon types (variable name: Type 1) in this dataset\n",
    "poke[\"Type 1\"].value_counts()"
   ]
  },
  {
   "cell_type": "code",
   "execution_count": 8,
   "id": "68fd10db",
   "metadata": {},
   "outputs": [
    {
     "data": {
      "text/plain": [
       "Water       0.185430\n",
       "Normal      0.145695\n",
       "Poison      0.092715\n",
       "Grass       0.079470\n",
       "Fire        0.079470\n",
       "Bug         0.079470\n",
       "Electric    0.059603\n",
       "Rock        0.059603\n",
       "Ground      0.052980\n",
       "Psychic     0.052980\n",
       "Fighting    0.046358\n",
       "Ghost       0.019868\n",
       "Dragon      0.019868\n",
       "Fairy       0.013245\n",
       "Ice         0.013245\n",
       "Name: Type 1, dtype: float64"
      ]
     },
     "execution_count": 8,
     "metadata": {},
     "output_type": "execute_result"
    }
   ],
   "source": [
    "#Determine the relative frequencies of the unique pokemon types (variable name: Type 1) in this dataset\n",
    "poke[\"Type 1\"].value_counts(normalize = True)"
   ]
  },
  {
   "cell_type": "code",
   "execution_count": 9,
   "id": "35719da9",
   "metadata": {},
   "outputs": [
    {
     "data": {
      "text/html": [
       "<div>\n",
       "<style scoped>\n",
       "    .dataframe tbody tr th:only-of-type {\n",
       "        vertical-align: middle;\n",
       "    }\n",
       "\n",
       "    .dataframe tbody tr th {\n",
       "        vertical-align: top;\n",
       "    }\n",
       "\n",
       "    .dataframe thead th {\n",
       "        text-align: right;\n",
       "    }\n",
       "</style>\n",
       "<table border=\"1\" class=\"dataframe\">\n",
       "  <thead>\n",
       "    <tr style=\"text-align: right;\">\n",
       "      <th>Legendary</th>\n",
       "      <th>False</th>\n",
       "      <th>True</th>\n",
       "    </tr>\n",
       "    <tr>\n",
       "      <th>Stage</th>\n",
       "      <th></th>\n",
       "      <th></th>\n",
       "    </tr>\n",
       "  </thead>\n",
       "  <tbody>\n",
       "    <tr>\n",
       "      <th>1</th>\n",
       "      <td>75</td>\n",
       "      <td>4</td>\n",
       "    </tr>\n",
       "    <tr>\n",
       "      <th>2</th>\n",
       "      <td>56</td>\n",
       "      <td>0</td>\n",
       "    </tr>\n",
       "    <tr>\n",
       "      <th>3</th>\n",
       "      <td>16</td>\n",
       "      <td>0</td>\n",
       "    </tr>\n",
       "  </tbody>\n",
       "</table>\n",
       "</div>"
      ],
      "text/plain": [
       "Legendary  False  True\n",
       "Stage                 \n",
       "1             75     4\n",
       "2             56     0\n",
       "3             16     0"
      ]
     },
     "execution_count": 9,
     "metadata": {},
     "output_type": "execute_result"
    }
   ],
   "source": [
    "#Create a crosstabs table that shows the frequency of \n",
    "#pokemon stage (variable name: Stage) and legendary status (variable name: Legendary).\n",
    "\n",
    "pd.crosstab(poke[\"Stage\"], poke[\"Legendary\"], normalize = False, margins = False)"
   ]
  },
  {
   "cell_type": "markdown",
   "id": "06401fbf",
   "metadata": {},
   "source": [
    "## Describing Quantitative Data\n",
    "\n",
    "There are many more techniques for describing quantitative data compared to qualitative. When summarizing quantitative data, the objective is to get a sense of how the data is clustered and the variation in numeric values. \n",
    "\n",
    "***\n",
    "\n",
    "### Measures of Central Tendency\n",
    "\n",
    "Measures of Central Tendency are estimates of what a \"typical\" value/data point is within your set of data. A measure of central tendency is a number around which an entire sample of data is spread. We can describe this central position using several statistics, including the mean (average), the median, and the mode. \n",
    "\n",
    "Measures of central tendency can be visualized with a frequency distribution (histogram). A frequency distribution is a description of values and how often each value occurs within your dataset. When you graph a frequency distribution a pattern/shape should give insight into which values occured the most/least. \n",
    "\n",
    "<img src=\"NormalDist.jpeg\">\n",
    "\n",
    "***\n",
    "\n",
    "#### Mean\n",
    "\n",
    "The mean, which is the most commonly known and used measure of central tendency, is the arithmetic average of a set of numeric values. The mean is calculated by adding all the values together and dividing by the total number of values in the set of values. In specific sets of data, the mean is the central point in the frequency distribution aka the hump. "
   ]
  },
  {
   "cell_type": "code",
   "execution_count": 10,
   "id": "a8ea6769",
   "metadata": {},
   "outputs": [
    {
     "data": {
      "text/html": [
       "<div>\n",
       "<style scoped>\n",
       "    .dataframe tbody tr th:only-of-type {\n",
       "        vertical-align: middle;\n",
       "    }\n",
       "\n",
       "    .dataframe tbody tr th {\n",
       "        vertical-align: top;\n",
       "    }\n",
       "\n",
       "    .dataframe thead th {\n",
       "        text-align: right;\n",
       "    }\n",
       "</style>\n",
       "<table border=\"1\" class=\"dataframe\">\n",
       "  <thead>\n",
       "    <tr style=\"text-align: right;\">\n",
       "      <th></th>\n",
       "      <th>Hours Worked</th>\n",
       "    </tr>\n",
       "  </thead>\n",
       "  <tbody>\n",
       "    <tr>\n",
       "      <th>0</th>\n",
       "      <td>32</td>\n",
       "    </tr>\n",
       "    <tr>\n",
       "      <th>1</th>\n",
       "      <td>43</td>\n",
       "    </tr>\n",
       "    <tr>\n",
       "      <th>2</th>\n",
       "      <td>28</td>\n",
       "    </tr>\n",
       "    <tr>\n",
       "      <th>3</th>\n",
       "      <td>24</td>\n",
       "    </tr>\n",
       "    <tr>\n",
       "      <th>4</th>\n",
       "      <td>25</td>\n",
       "    </tr>\n",
       "    <tr>\n",
       "      <th>...</th>\n",
       "      <td>...</td>\n",
       "    </tr>\n",
       "    <tr>\n",
       "      <th>994</th>\n",
       "      <td>40</td>\n",
       "    </tr>\n",
       "    <tr>\n",
       "      <th>995</th>\n",
       "      <td>22</td>\n",
       "    </tr>\n",
       "    <tr>\n",
       "      <th>996</th>\n",
       "      <td>29</td>\n",
       "    </tr>\n",
       "    <tr>\n",
       "      <th>997</th>\n",
       "      <td>22</td>\n",
       "    </tr>\n",
       "    <tr>\n",
       "      <th>998</th>\n",
       "      <td>29</td>\n",
       "    </tr>\n",
       "  </tbody>\n",
       "</table>\n",
       "<p>999 rows × 1 columns</p>\n",
       "</div>"
      ],
      "text/plain": [
       "     Hours Worked\n",
       "0              32\n",
       "1              43\n",
       "2              28\n",
       "3              24\n",
       "4              25\n",
       "..            ...\n",
       "994            40\n",
       "995            22\n",
       "996            29\n",
       "997            22\n",
       "998            29\n",
       "\n",
       "[999 rows x 1 columns]"
      ]
     },
     "execution_count": 10,
     "metadata": {},
     "output_type": "execute_result"
    }
   ],
   "source": [
    "df[[\"Hours Worked\"]]"
   ]
  },
  {
   "cell_type": "code",
   "execution_count": 11,
   "id": "9875c190",
   "metadata": {},
   "outputs": [
    {
     "data": {
      "text/plain": [
       "33.727727727727725"
      ]
     },
     "execution_count": 11,
     "metadata": {},
     "output_type": "execute_result"
    }
   ],
   "source": [
    "## Calculate the Mean of a column \n",
    "\n",
    "df[\"Hours Worked\"].mean()"
   ]
  },
  {
   "cell_type": "markdown",
   "id": "b2722e86",
   "metadata": {},
   "source": [
    "#### Median \n",
    "\n",
    "The median is the value which divides the data into two equal parts when the data is arranged from least to greatest. The median will be the middle value if the number of values is odd, otherwise, it will be the average of the two middle values if the number of values is even. "
   ]
  },
  {
   "cell_type": "code",
   "execution_count": 12,
   "id": "24bffb75",
   "metadata": {},
   "outputs": [
    {
     "data": {
      "text/plain": [
       "Hours Worked    34.0\n",
       "dtype: float64"
      ]
     },
     "execution_count": 12,
     "metadata": {},
     "output_type": "execute_result"
    }
   ],
   "source": [
    "## Calculate the Median of a column \n",
    "\n",
    "df[[\"Hours Worked\"]].median()\n",
    "# Here 34.0 is even, so it's the avg of the 2 middle values of Hours Worked"
   ]
  },
  {
   "cell_type": "markdown",
   "id": "47a9f4a9",
   "metadata": {},
   "source": [
    "#### Mode \n",
    "\n",
    "The mode is the value that appears most frequently in a sample of data, or the value that has the highest frequency. It is possible for a set of data to have no mode, and it is possible for a set of data to have multiple modes. "
   ]
  },
  {
   "cell_type": "code",
   "execution_count": 13,
   "id": "62704419",
   "metadata": {},
   "outputs": [
    {
     "data": {
      "text/html": [
       "<div>\n",
       "<style scoped>\n",
       "    .dataframe tbody tr th:only-of-type {\n",
       "        vertical-align: middle;\n",
       "    }\n",
       "\n",
       "    .dataframe tbody tr th {\n",
       "        vertical-align: top;\n",
       "    }\n",
       "\n",
       "    .dataframe thead th {\n",
       "        text-align: right;\n",
       "    }\n",
       "</style>\n",
       "<table border=\"1\" class=\"dataframe\">\n",
       "  <thead>\n",
       "    <tr style=\"text-align: right;\">\n",
       "      <th></th>\n",
       "      <th>Hours Worked</th>\n",
       "    </tr>\n",
       "  </thead>\n",
       "  <tbody>\n",
       "    <tr>\n",
       "      <th>0</th>\n",
       "      <td>38</td>\n",
       "    </tr>\n",
       "  </tbody>\n",
       "</table>\n",
       "</div>"
      ],
      "text/plain": [
       "   Hours Worked\n",
       "0            38"
      ]
     },
     "execution_count": 13,
     "metadata": {},
     "output_type": "execute_result"
    }
   ],
   "source": [
    "## Calculate the Mode of a column \n",
    "\n",
    "df[[\"Hours Worked\"]].mode()"
   ]
  },
  {
   "cell_type": "markdown",
   "id": "238561a5",
   "metadata": {},
   "source": [
    "# { Exercise 2 }\n",
    "\n",
    "    1. Using the pokemon dataset ('poke'), calculate the mean attack value (Attack) in the dataset.  \n",
    "    2. Determine the median defense value (Defense). Write a single sentence on what your findings mean. \n",
    "    3. Determine the mode of the speed (Speed) column. Write a single sentence on what your findings mean. "
   ]
  },
  {
   "cell_type": "code",
   "execution_count": 14,
   "id": "4279bb85",
   "metadata": {},
   "outputs": [
    {
     "data": {
      "text/plain": [
       "72.54966887417218"
      ]
     },
     "execution_count": 14,
     "metadata": {},
     "output_type": "execute_result"
    }
   ],
   "source": [
    "#Using the pokemon dataset ('poke'), calculate the mean attack value (Attack) in the dataset.\n",
    "poke[\"Attack\"].mean()\n",
    "\n",
    "#the avg Attack value is 72.54"
   ]
  },
  {
   "cell_type": "code",
   "execution_count": 15,
   "id": "970ef683",
   "metadata": {},
   "outputs": [
    {
     "data": {
      "text/plain": [
       "65.0"
      ]
     },
     "execution_count": 15,
     "metadata": {},
     "output_type": "execute_result"
    }
   ],
   "source": [
    "#Determine the median defense value (Defense). Write a single sentence on what your findings mean.\n",
    "poke[\"Defense\"].median()\n",
    "\n",
    "# 65.0 is the middle defense value in our dataset"
   ]
  },
  {
   "cell_type": "code",
   "execution_count": 16,
   "id": "8eeba377",
   "metadata": {},
   "outputs": [
    {
     "data": {
      "text/plain": [
       "0    70\n",
       "1    90\n",
       "dtype: int64"
      ]
     },
     "execution_count": 16,
     "metadata": {},
     "output_type": "execute_result"
    }
   ],
   "source": [
    "#Determine the mode of the speed (Speed) column. Write a single sentence on what your findings mean.\n",
    "poke[\"Speed\"].mode()\n",
    "\n",
    "#\"Speed of value 0 and 1 occur the most in the dataset\""
   ]
  },
  {
   "cell_type": "markdown",
   "id": "bd766711",
   "metadata": {},
   "source": [
    "### Data Distribution and Measurement Sensitivity\n",
    "***\n",
    "\n",
    "### Normally distributed data vs. non-normally distributed data\n",
    "\n",
    "Several statistics are suited for data that follows a <b>normal distribution</b>. When visualized, normally distributed data lies in a symmetrical pattern (bell-shape) where the majority of the data surrounds the mean with decreasing amounts evenly distributed to the left and the right. \n",
    "\n",
    "While this is the ideal, real-world data is not always normally distributed. Non-normal distribution is possible and there are several statistics that can still be used with non-normally distributed data. It is important to determine how your data is distributed before you embark on certain statistics. \n",
    "\n",
    "#### Distribution and Measure of Central Tendency\n",
    "\n",
    "The shape of the data helps to determine which measure of central tendency should be reported. Some statistics are very sensitive to non-normal distributions, while others are more resilient. Three of the most common shapes to learn are symmetric, left-skewed, and right-skewed. <b>Skew</b> is simply a measure of the asymmetry of the distribution. <b>In the below images, while not shown, the values are increasing from left to right.</b> \n",
    "\n",
    "#### Symmetric Data\n",
    "* mean, median, and mode are all the same here\n",
    "* no skewness is apparent\n",
    "* the distribution is described as symmetric\n",
    "\n",
    "<img src=\"Symmetrical.jpeg\">\n",
    "\n",
    "***\n",
    "\n",
    "#### Left-skewed Data\n",
    "* mean < median\n",
    "* long tail on the left\n",
    "\n",
    "<img src=\"LeftSkew.jpeg\">\n",
    "\n",
    "***\n",
    "\n",
    "#### Right-skewed Data\n",
    "* mean > median\n",
    "* long tail on the right\n",
    "\n",
    "<img src=\"RightSkew.jpeg\">\n",
    "\n",
    "***\n",
    "\n",
    "### Considerations for Shape\n",
    "\n",
    "When your data is skewed in either direction, you should consider the best measure of central tendency to report. The median is best used when you have skewed data. This is because the median is less affected by extreme values. \n",
    "\n",
    "If your data is skewed, this could be an indication that your data has extreme high or low values that are contributing to the skewness. Later in this lesson, we will talk about how to handle extreme values. "
   ]
  },
  {
   "cell_type": "code",
   "execution_count": null,
   "id": "2d58a707",
   "metadata": {},
   "outputs": [],
   "source": []
  },
  {
   "cell_type": "code",
   "execution_count": null,
   "id": "2427e6e8",
   "metadata": {},
   "outputs": [],
   "source": []
  },
  {
   "cell_type": "markdown",
   "id": "7141c9ea",
   "metadata": {},
   "source": [
    "### Measures of Variability (or Spread)\n",
    "\n",
    "Measures of Variability, or spread, describe the amount of dispersion in your data sample. In other words, measures of variability, describe how spread out values are. For example, in a sample of 100 students, the average test score is 75. However, not all students will have gotten a 75 - their scores will be spread out above and below the average, some will be higher and some lower. To describe the spread of our data, we can use several statistics, including range, standard deviation, percentiles, and quartiles.\n",
    "\n",
    "***\n",
    "\n",
    "#### Range\n",
    "\n",
    "The range is the difference between the lowest and highest value in a set of data. For example, if the maximum value is 10 and the minimum value is 2, the range is 8. The larger the range, the larger the difference between the highest and lowest values. "
   ]
  },
  {
   "cell_type": "code",
   "execution_count": 17,
   "id": "8e051a04",
   "metadata": {},
   "outputs": [
    {
     "name": "stdout",
     "output_type": "stream",
     "text": [
      "28\n"
     ]
    }
   ],
   "source": [
    "## Calculate the range of values in a column\n",
    "\n",
    "hrs_range = df['Hours Worked'].max() - df['Hours Worked'].min()\n",
    "\n",
    "print(hrs_range)"
   ]
  },
  {
   "cell_type": "markdown",
   "id": "268202ff",
   "metadata": {},
   "source": [
    "#### Standard Deviation (SD)\n",
    "\n",
    "The SD is a measurement of the average distance between each data value and the mean. You can consider SD as a measure of how spread out the data is from the mean. A low SD indicates that the data points are clustered around the mean, while a high SD indicates the data points are spread out over a wider range of values. \n",
    "\n",
    "<img src=\"https://d20khd7ddkh5ls.cloudfront.net/high_low_standard_deviation.png\">"
   ]
  },
  {
   "cell_type": "code",
   "execution_count": 18,
   "id": "4c6d3b46",
   "metadata": {},
   "outputs": [
    {
     "name": "stdout",
     "output_type": "stream",
     "text": [
      "Mean hours worked by all employees: 33.727727727727725\n"
     ]
    },
    {
     "data": {
      "text/plain": [
       "8.223453795492198"
      ]
     },
     "execution_count": 18,
     "metadata": {},
     "output_type": "execute_result"
    }
   ],
   "source": [
    "## Calculate the Standard Deviation of values in a column\n",
    "\n",
    "print(\"Mean hours worked by all employees:\", df[\"Hours Worked\"].mean())\n",
    "\n",
    "df[\"Hours Worked\"].std()"
   ]
  },
  {
   "cell_type": "markdown",
   "id": "fdd0c97b",
   "metadata": {},
   "source": [
    "#### Percentiles\n",
    "\n",
    "Percentiles give insight into the relation of one data point to other data points within the same dataset. When the data values are arranged from lowest to highest, percentiles represent the position of a value within the list of values. For example, if a value is at the 50th percentile - 50% of the data falls below the value, and 50% fall above the value. If a value is at the 85th percentile - 85% of the data falls below the value, and 15% fall above the value. "
   ]
  },
  {
   "cell_type": "code",
   "execution_count": 19,
   "id": "03f15bee",
   "metadata": {},
   "outputs": [
    {
     "data": {
      "text/plain": [
       "44.0"
      ]
     },
     "execution_count": 19,
     "metadata": {},
     "output_type": "execute_result"
    }
   ],
   "source": [
    "## Calculate percentiles of values in a column\n",
    "## To determine the value that falls at a specific percentile\n",
    "## np.percentile(data/column, percentile value)\n",
    "\n",
    "np.percentile(df['Hours Worked'], 85)\n",
    "\n",
    "## Determine which value falls at the 85th percentile? \n",
    "## 85% of the values in Hours Worked are below 44 hrs, 15% are above this 44 hrs. "
   ]
  },
  {
   "cell_type": "markdown",
   "id": "404b48bb",
   "metadata": {},
   "source": [
    "#### Quartiles \n",
    "\n",
    "Quartiles are values that divide a set of data into equal quarters (when the data is ordered from lowest to highest). There are <b>three</b> quartile values that divide the data into four parts (see below). \n",
    "\n",
    "<img src=\"quar.png\">\n",
    "\n",
    "* The first quartile (Q1) is at the 25th percentile (25% below, 75% above)\n",
    "* The second quartile (Q2) is at the 50th percentile (50% below, 50% above, median)\n",
    "* The third quartile (Q3) is at the 75th percentile (75% below, 25% above)\n",
    "\n",
    "<b>Quartiles can be used to calculate the Interquartile Range (IQR) - which can be used to handle outliers in your dataset.</b>"
   ]
  },
  {
   "cell_type": "code",
   "execution_count": 20,
   "id": "5a401565",
   "metadata": {},
   "outputs": [
    {
     "data": {
      "text/plain": [
       "27.0"
      ]
     },
     "execution_count": 20,
     "metadata": {},
     "output_type": "execute_result"
    }
   ],
   "source": [
    "## Determine the three quartiles of a set of data\n",
    "## A quantile is a series of values, or cut points, that divide a set of data into equal parts \n",
    "## A 'quartile' is a specical kind of quantile that divides the data into four equal parts\n",
    "\n",
    "df['Hours Worked'].quantile(.25) \n",
    "\n",
    "#Q1 = .25\n",
    "#Q2 = .50\n",
    "#Q3 = .75"
   ]
  },
  {
   "cell_type": "markdown",
   "id": "70809067",
   "metadata": {},
   "source": [
    "#### All of the Above \n",
    "\n",
    "The describe function is perfect for outputting multiple descriptive statistics at once. This will save you multiple steps if you want to look at one or several quantitative variables. "
   ]
  },
  {
   "cell_type": "code",
   "execution_count": 21,
   "id": "c6c02bf7",
   "metadata": {},
   "outputs": [
    {
     "data": {
      "text/html": [
       "<div>\n",
       "<style scoped>\n",
       "    .dataframe tbody tr th:only-of-type {\n",
       "        vertical-align: middle;\n",
       "    }\n",
       "\n",
       "    .dataframe tbody tr th {\n",
       "        vertical-align: top;\n",
       "    }\n",
       "\n",
       "    .dataframe thead th {\n",
       "        text-align: right;\n",
       "    }\n",
       "</style>\n",
       "<table border=\"1\" class=\"dataframe\">\n",
       "  <thead>\n",
       "    <tr style=\"text-align: right;\">\n",
       "      <th></th>\n",
       "      <th>Hours Worked</th>\n",
       "      <th>Years Experience</th>\n",
       "      <th>Cars Sold</th>\n",
       "    </tr>\n",
       "  </thead>\n",
       "  <tbody>\n",
       "    <tr>\n",
       "      <th>count</th>\n",
       "      <td>999.000000</td>\n",
       "      <td>999.000000</td>\n",
       "      <td>999.000000</td>\n",
       "    </tr>\n",
       "    <tr>\n",
       "      <th>mean</th>\n",
       "      <td>33.727728</td>\n",
       "      <td>3.026026</td>\n",
       "      <td>3.922923</td>\n",
       "    </tr>\n",
       "    <tr>\n",
       "      <th>std</th>\n",
       "      <td>8.223454</td>\n",
       "      <td>1.394709</td>\n",
       "      <td>1.527000</td>\n",
       "    </tr>\n",
       "    <tr>\n",
       "      <th>min</th>\n",
       "      <td>20.000000</td>\n",
       "      <td>1.000000</td>\n",
       "      <td>1.000000</td>\n",
       "    </tr>\n",
       "    <tr>\n",
       "      <th>25%</th>\n",
       "      <td>27.000000</td>\n",
       "      <td>2.000000</td>\n",
       "      <td>3.000000</td>\n",
       "    </tr>\n",
       "    <tr>\n",
       "      <th>50%</th>\n",
       "      <td>34.000000</td>\n",
       "      <td>3.000000</td>\n",
       "      <td>4.000000</td>\n",
       "    </tr>\n",
       "    <tr>\n",
       "      <th>75%</th>\n",
       "      <td>41.000000</td>\n",
       "      <td>4.000000</td>\n",
       "      <td>5.000000</td>\n",
       "    </tr>\n",
       "    <tr>\n",
       "      <th>max</th>\n",
       "      <td>48.000000</td>\n",
       "      <td>5.000000</td>\n",
       "      <td>7.000000</td>\n",
       "    </tr>\n",
       "  </tbody>\n",
       "</table>\n",
       "</div>"
      ],
      "text/plain": [
       "       Hours Worked  Years Experience   Cars Sold\n",
       "count    999.000000        999.000000  999.000000\n",
       "mean      33.727728          3.026026    3.922923\n",
       "std        8.223454          1.394709    1.527000\n",
       "min       20.000000          1.000000    1.000000\n",
       "25%       27.000000          2.000000    3.000000\n",
       "50%       34.000000          3.000000    4.000000\n",
       "75%       41.000000          4.000000    5.000000\n",
       "max       48.000000          5.000000    7.000000"
      ]
     },
     "execution_count": 21,
     "metadata": {},
     "output_type": "execute_result"
    }
   ],
   "source": [
    "## Use the describe function to view multiple statistics at the same time\n",
    "\n",
    "df.describe()"
   ]
  },
  {
   "cell_type": "code",
   "execution_count": 22,
   "id": "8d7fc4f7",
   "metadata": {},
   "outputs": [
    {
     "data": {
      "text/plain": [
       "count    999.000000\n",
       "mean      33.727728\n",
       "std        8.223454\n",
       "min       20.000000\n",
       "25%       27.000000\n",
       "50%       34.000000\n",
       "75%       41.000000\n",
       "max       48.000000\n",
       "Name: Hours Worked, dtype: float64"
      ]
     },
     "execution_count": 22,
     "metadata": {},
     "output_type": "execute_result"
    }
   ],
   "source": [
    "## Use the describe function to isolate information for a single column\n",
    "\n",
    "df['Hours Worked'].describe()"
   ]
  },
  {
   "cell_type": "markdown",
   "id": "6fef3e31",
   "metadata": {},
   "source": [
    "# { Exercise 3 }\n",
    "\n",
    "    1. Using the pokemon dataset ('poke'), calculate the range for the HP column. \n",
    "    2. What is the mean and the standard deviation for the special attack (SpAtk) column?\n",
    "    3. For the Attack column, determine which value falls at the 80th percentile? Which value falls at the 15th percentile? For each of these values, write a single sentence describing what this means. \n",
    "    4. Calculate the second quartile (or the median) for the special defense (SpDef) column. Then, calculate the median of the same column using the method shown above. Are the values the same? "
   ]
  },
  {
   "cell_type": "code",
   "execution_count": 23,
   "id": "8eaf258a",
   "metadata": {},
   "outputs": [
    {
     "name": "stdout",
     "output_type": "stream",
     "text": [
      "The HP range is 240\n"
     ]
    }
   ],
   "source": [
    "#Using the pokemon dataset ('poke'), calculate the range for the HP column. \n",
    "HP_range = poke[\"HP\"].max() - poke[\"HP\"].min()\n",
    "print(f\"The HP range is {HP_range}\")"
   ]
  },
  {
   "cell_type": "code",
   "execution_count": 24,
   "id": "a7aed6b0",
   "metadata": {},
   "outputs": [
    {
     "name": "stdout",
     "output_type": "stream",
     "text": [
      "For the special attack column, the mean is 67.13907284768212 and the standard deviation is 28.53419930191353\n"
     ]
    }
   ],
   "source": [
    "#What is the mean and the standard deviation for the special attack (SpAtk) column?\n",
    "mean = poke[\"SpAtk\"].mean()\n",
    "std = poke[\"SpAtk\"].std()\n",
    "\n",
    "print(f\"For the special attack column, the mean is {mean} and the standard deviation is {std}\")"
   ]
  },
  {
   "cell_type": "code",
   "execution_count": 25,
   "id": "5f195d83",
   "metadata": {},
   "outputs": [
    {
     "data": {
      "text/plain": [
       "45.0"
      ]
     },
     "execution_count": 25,
     "metadata": {},
     "output_type": "execute_result"
    }
   ],
   "source": [
    "#For the Attack column, determine which value falls at the 80th percentile? \n",
    "#Which value falls at the 15th percentile? \n",
    "#For each of these values, write a single sentence describing what this means.\n",
    "\n",
    "poke[\"Attack\"].quantile(.8)\n",
    "# the value falls at 20% above \n",
    "\n",
    "poke[\"Attack\"].quantile(.15)\n",
    "# Attack of 95 and below of the attack falls into"
   ]
  },
  {
   "cell_type": "code",
   "execution_count": 26,
   "id": "00823197",
   "metadata": {},
   "outputs": [
    {
     "data": {
      "text/plain": [
       "65.0"
      ]
     },
     "execution_count": 26,
     "metadata": {},
     "output_type": "execute_result"
    }
   ],
   "source": [
    "#Calculate the second quartile (or the median) for the special defense (SpDef) column. \n",
    "#Then, calculate the median of the same column using the method shown above. \n",
    "#Are the values the same? \n",
    "\n",
    "poke[\"SpDef\"].quantile(.5)\n",
    "poke[\"SpDef\"].median()\n",
    "\n",
    "# Both values are the same"
   ]
  },
  {
   "cell_type": "markdown",
   "id": "e1d602cd",
   "metadata": {},
   "source": [
    "## Handling and Removing Outliers\n",
    "\n",
    "***\n",
    "\n",
    "Outliers are data points that differ significantly from other data points. Outliers are an important feature of a dataset that should be identified and addressed because extreme values can influence the results of your statistics. \n",
    "\n",
    "   * In a sample of 5 students, their ages are 25, 22, 97, 23, 21 - 97 is an outlier because the value differs significantly from the remaining data.\n",
    "   * Without removing outlier, the mean is: 37.6 and the median is: 23\n",
    "   * When removing the outlier, the mean is: 22.75 and the median is: 22.5\n",
    "\n",
    "Determining which values are extreme can be challenging when you have a larger dataset. There are several methods that can be used to strategically determine which values are outliers, we will cover two separate methods below. "
   ]
  },
  {
   "cell_type": "code",
   "execution_count": 27,
   "id": "5100993b",
   "metadata": {},
   "outputs": [
    {
     "data": {
      "text/html": [
       "<div>\n",
       "<style scoped>\n",
       "    .dataframe tbody tr th:only-of-type {\n",
       "        vertical-align: middle;\n",
       "    }\n",
       "\n",
       "    .dataframe tbody tr th {\n",
       "        vertical-align: top;\n",
       "    }\n",
       "\n",
       "    .dataframe thead th {\n",
       "        text-align: right;\n",
       "    }\n",
       "</style>\n",
       "<table border=\"1\" class=\"dataframe\">\n",
       "  <thead>\n",
       "    <tr style=\"text-align: right;\">\n",
       "      <th></th>\n",
       "      <th>Employee</th>\n",
       "      <th>YearsExperience</th>\n",
       "      <th>Salary</th>\n",
       "      <th>Age</th>\n",
       "      <th>Gender</th>\n",
       "      <th>RemoteStatus</th>\n",
       "      <th>Region</th>\n",
       "      <th>CompanyCar</th>\n",
       "      <th>Shift</th>\n",
       "      <th>PerformanceReviewScore</th>\n",
       "    </tr>\n",
       "  </thead>\n",
       "  <tbody>\n",
       "    <tr>\n",
       "      <th>0</th>\n",
       "      <td>Richard</td>\n",
       "      <td>5.1</td>\n",
       "      <td>66029</td>\n",
       "      <td>41</td>\n",
       "      <td>Female</td>\n",
       "      <td>0</td>\n",
       "      <td>Central</td>\n",
       "      <td>Y</td>\n",
       "      <td>2</td>\n",
       "      <td>98.3</td>\n",
       "    </tr>\n",
       "    <tr>\n",
       "      <th>1</th>\n",
       "      <td>Nick</td>\n",
       "      <td>5.9</td>\n",
       "      <td>8136300</td>\n",
       "      <td>39</td>\n",
       "      <td>Female</td>\n",
       "      <td>0</td>\n",
       "      <td>Central</td>\n",
       "      <td>Y</td>\n",
       "      <td>3</td>\n",
       "      <td>105.7</td>\n",
       "    </tr>\n",
       "    <tr>\n",
       "      <th>2</th>\n",
       "      <td>Morgan</td>\n",
       "      <td>9.5</td>\n",
       "      <td>116969</td>\n",
       "      <td>50</td>\n",
       "      <td>Female</td>\n",
       "      <td>1</td>\n",
       "      <td>Central</td>\n",
       "      <td>N</td>\n",
       "      <td>1</td>\n",
       "      <td>145.0</td>\n",
       "    </tr>\n",
       "    <tr>\n",
       "      <th>3</th>\n",
       "      <td>Susan</td>\n",
       "      <td>3.2</td>\n",
       "      <td>64445</td>\n",
       "      <td>27</td>\n",
       "      <td>Male</td>\n",
       "      <td>0</td>\n",
       "      <td>Central</td>\n",
       "      <td>Y</td>\n",
       "      <td>3</td>\n",
       "      <td>75.1</td>\n",
       "    </tr>\n",
       "    <tr>\n",
       "      <th>4</th>\n",
       "      <td>Matthew</td>\n",
       "      <td>8.2</td>\n",
       "      <td>113812</td>\n",
       "      <td>47</td>\n",
       "      <td>Female</td>\n",
       "      <td>1</td>\n",
       "      <td>Central</td>\n",
       "      <td>N</td>\n",
       "      <td>2</td>\n",
       "      <td>131.1</td>\n",
       "    </tr>\n",
       "  </tbody>\n",
       "</table>\n",
       "</div>"
      ],
      "text/plain": [
       "  Employee  YearsExperience   Salary  Age  Gender  RemoteStatus   Region  \\\n",
       "0  Richard              5.1    66029   41  Female             0  Central   \n",
       "1     Nick              5.9  8136300   39  Female             0  Central   \n",
       "2   Morgan              9.5   116969   50  Female             1  Central   \n",
       "3    Susan              3.2    64445   27    Male             0  Central   \n",
       "4  Matthew              8.2   113812   47  Female             1  Central   \n",
       "\n",
       "  CompanyCar  Shift  PerformanceReviewScore  \n",
       "0          Y      2                    98.3  \n",
       "1          Y      3                   105.7  \n",
       "2          N      1                   145.0  \n",
       "3          Y      3                    75.1  \n",
       "4          N      2                   131.1  "
      ]
     },
     "execution_count": 27,
     "metadata": {},
     "output_type": "execute_result"
    }
   ],
   "source": [
    "df = pd.read_csv(\"SalaryData.csv\")\n",
    "df.head()"
   ]
  },
  {
   "cell_type": "markdown",
   "id": "4e2bbacb",
   "metadata": {},
   "source": [
    "## Method 1 : Using z-scores to detect and remove outliers\n",
    "\n",
    "In statistics, the <font color=salmon><b>Empirical Rule</b></font> estimates how data, following a normal distribution, will spread around the mean. According to this rule, basically all data values will fall within 3 SD's above or below the mean. The Empirical Rule is also known as the <font color=salmon><b>68-95-99.7 Rule</b></font> because according to this rule, your data will typically fall into the following pattern:\n",
    "\n",
    "* 68% of the data falls within one SD of the mean\n",
    "\n",
    "* 95% of the data falls within two SD's of the mean\n",
    "\n",
    "* 99.7% of the data falls within three SD's of the mean\n",
    "\n",
    "<img src=\"SD Bell Curve.jpeg\">\n",
    "\n",
    "#### Empirical Rule Example:\n",
    "\n",
    "The average weight of an American man is 175 lbs with a SD of 10 lbs. According to the Empirical Rule, we can assume: \n",
    "\n",
    "* 68% of American men are between 165 and 185 lbs (or +/- 10 lbs from the mean, or 1 SD)\n",
    "* 95% of American men are between 155 and 195 lbs (or +/- 20 lbs from the mean, or 2 SD's)\n",
    "* 99.7% of American men are between 145 and 205 lbs (or +/- 30 lbs from the mean, or 3 SD's)\n",
    "* Typically, data values that fall outside of this range are considered outliers\n",
    "_______________________ \n",
    "A <font color=salmon><b>z-score</b></font>, also known as a standard score, measures the distance of a value from the mean. In other words, the z-score tells you how many SD's a given value is from the mean. Values that fall above the mean will have a positive (+) z-score, while values that fall below the mean will have a negative (-) z-score. Values that are far from the mean will be considered outliers. You can define a value as an outlier if the z-score greater than +/- 3. \n",
    "_______________________ \n",
    "\n",
    "#### Steps for Detecting and Removing Outliers with z-scores\n",
    "* Import the scipy library to make use of the z-score function\n",
    "* Calculate the z-score for each value within a specific column in your dataset\n",
    "* Transform the z-score to the absolute value of the z-score (number without the +/- sign; this will make our code simpler)\n",
    "* Add the z-scores to your dataset as a new column\n",
    "* Remove all rows that have a z-score greater than 3"
   ]
  },
  {
   "cell_type": "code",
   "execution_count": 28,
   "id": "c44567cf",
   "metadata": {},
   "outputs": [
    {
     "name": "stdout",
     "output_type": "stream",
     "text": [
      "(30, 10)\n"
     ]
    }
   ],
   "source": [
    "## Create a copy of your dataset to filter outliers\n",
    "dfz = df.copy()\n",
    "\n",
    "## Check original shape of the dataset\n",
    "print(dfz.shape)  # 30 rows by 10 columns"
   ]
  },
  {
   "cell_type": "code",
   "execution_count": 29,
   "id": "61292858",
   "metadata": {},
   "outputs": [
    {
     "data": {
      "text/html": [
       "<div>\n",
       "<style scoped>\n",
       "    .dataframe tbody tr th:only-of-type {\n",
       "        vertical-align: middle;\n",
       "    }\n",
       "\n",
       "    .dataframe tbody tr th {\n",
       "        vertical-align: top;\n",
       "    }\n",
       "\n",
       "    .dataframe thead th {\n",
       "        text-align: right;\n",
       "    }\n",
       "</style>\n",
       "<table border=\"1\" class=\"dataframe\">\n",
       "  <thead>\n",
       "    <tr style=\"text-align: right;\">\n",
       "      <th></th>\n",
       "      <th>Employee</th>\n",
       "      <th>YearsExperience</th>\n",
       "      <th>Salary</th>\n",
       "      <th>Age</th>\n",
       "      <th>Gender</th>\n",
       "      <th>RemoteStatus</th>\n",
       "      <th>Region</th>\n",
       "      <th>CompanyCar</th>\n",
       "      <th>Shift</th>\n",
       "      <th>PerformanceReviewScore</th>\n",
       "      <th>zscore_salary</th>\n",
       "    </tr>\n",
       "  </thead>\n",
       "  <tbody>\n",
       "    <tr>\n",
       "      <th>0</th>\n",
       "      <td>Richard</td>\n",
       "      <td>5.1</td>\n",
       "      <td>66029</td>\n",
       "      <td>41</td>\n",
       "      <td>Female</td>\n",
       "      <td>0</td>\n",
       "      <td>Central</td>\n",
       "      <td>Y</td>\n",
       "      <td>2</td>\n",
       "      <td>98.3</td>\n",
       "      <td>0.269844</td>\n",
       "    </tr>\n",
       "    <tr>\n",
       "      <th>1</th>\n",
       "      <td>Nick</td>\n",
       "      <td>5.9</td>\n",
       "      <td>8136300</td>\n",
       "      <td>39</td>\n",
       "      <td>Female</td>\n",
       "      <td>0</td>\n",
       "      <td>Central</td>\n",
       "      <td>Y</td>\n",
       "      <td>3</td>\n",
       "      <td>105.7</td>\n",
       "      <td>3.343557</td>\n",
       "    </tr>\n",
       "    <tr>\n",
       "      <th>2</th>\n",
       "      <td>Morgan</td>\n",
       "      <td>9.5</td>\n",
       "      <td>116969</td>\n",
       "      <td>50</td>\n",
       "      <td>Female</td>\n",
       "      <td>1</td>\n",
       "      <td>Central</td>\n",
       "      <td>N</td>\n",
       "      <td>1</td>\n",
       "      <td>145.0</td>\n",
       "      <td>0.247036</td>\n",
       "    </tr>\n",
       "    <tr>\n",
       "      <th>3</th>\n",
       "      <td>Susan</td>\n",
       "      <td>3.2</td>\n",
       "      <td>64445</td>\n",
       "      <td>27</td>\n",
       "      <td>Male</td>\n",
       "      <td>0</td>\n",
       "      <td>Central</td>\n",
       "      <td>Y</td>\n",
       "      <td>3</td>\n",
       "      <td>75.1</td>\n",
       "      <td>0.270553</td>\n",
       "    </tr>\n",
       "    <tr>\n",
       "      <th>4</th>\n",
       "      <td>Matthew</td>\n",
       "      <td>8.2</td>\n",
       "      <td>113812</td>\n",
       "      <td>47</td>\n",
       "      <td>Female</td>\n",
       "      <td>1</td>\n",
       "      <td>Central</td>\n",
       "      <td>N</td>\n",
       "      <td>2</td>\n",
       "      <td>131.1</td>\n",
       "      <td>0.248449</td>\n",
       "    </tr>\n",
       "  </tbody>\n",
       "</table>\n",
       "</div>"
      ],
      "text/plain": [
       "  Employee  YearsExperience   Salary  Age  Gender  RemoteStatus   Region  \\\n",
       "0  Richard              5.1    66029   41  Female             0  Central   \n",
       "1     Nick              5.9  8136300   39  Female             0  Central   \n",
       "2   Morgan              9.5   116969   50  Female             1  Central   \n",
       "3    Susan              3.2    64445   27    Male             0  Central   \n",
       "4  Matthew              8.2   113812   47  Female             1  Central   \n",
       "\n",
       "  CompanyCar  Shift  PerformanceReviewScore  zscore_salary  \n",
       "0          Y      2                    98.3       0.269844  \n",
       "1          Y      3                   105.7       3.343557  \n",
       "2          N      1                   145.0       0.247036  \n",
       "3          Y      3                    75.1       0.270553  \n",
       "4          N      2                   131.1       0.248449  "
      ]
     },
     "execution_count": 29,
     "metadata": {},
     "output_type": "execute_result"
    }
   ],
   "source": [
    "## Create a new column to contain the z-scores for the employee salary\n",
    "## Set the new column equal to the absolute value of the z-scores\n",
    "## To calculate z-score -- stats.zscore(data/column name)\n",
    "## To determine absolute value of z-score -- np.abs(data/function/options)\n",
    "\n",
    "dfz[\"zscore_salary\"] = np.abs(stats.zscore(dfz[\"Salary\"]))\n",
    "\n",
    "## Preview new column; optional\n",
    "dfz.head()"
   ]
  },
  {
   "cell_type": "code",
   "execution_count": 30,
   "id": "e61532ef",
   "metadata": {},
   "outputs": [
    {
     "name": "stdout",
     "output_type": "stream",
     "text": [
      "Int64Index([1, 28], dtype='int64')\n"
     ]
    }
   ],
   "source": [
    "## Determine the index locations for the rows with zscores that are greater than \"3\"\n",
    "z_outliers = dfz.loc[dfz[\"zscore_salary\"] > 3].index\n",
    "\n",
    "## Preview list of index values\n",
    "print(z_outliers)"
   ]
  },
  {
   "cell_type": "code",
   "execution_count": 31,
   "id": "0efe5df5",
   "metadata": {},
   "outputs": [
    {
     "data": {
      "text/html": [
       "<div>\n",
       "<style scoped>\n",
       "    .dataframe tbody tr th:only-of-type {\n",
       "        vertical-align: middle;\n",
       "    }\n",
       "\n",
       "    .dataframe tbody tr th {\n",
       "        vertical-align: top;\n",
       "    }\n",
       "\n",
       "    .dataframe thead th {\n",
       "        text-align: right;\n",
       "    }\n",
       "</style>\n",
       "<table border=\"1\" class=\"dataframe\">\n",
       "  <thead>\n",
       "    <tr style=\"text-align: right;\">\n",
       "      <th></th>\n",
       "      <th>Employee</th>\n",
       "      <th>YearsExperience</th>\n",
       "      <th>Salary</th>\n",
       "      <th>Age</th>\n",
       "      <th>Gender</th>\n",
       "      <th>RemoteStatus</th>\n",
       "      <th>Region</th>\n",
       "      <th>CompanyCar</th>\n",
       "      <th>Shift</th>\n",
       "      <th>PerformanceReviewScore</th>\n",
       "      <th>zscore_salary</th>\n",
       "    </tr>\n",
       "  </thead>\n",
       "  <tbody>\n",
       "    <tr>\n",
       "      <th>1</th>\n",
       "      <td>Nick</td>\n",
       "      <td>5.9</td>\n",
       "      <td>8136300</td>\n",
       "      <td>39</td>\n",
       "      <td>Female</td>\n",
       "      <td>0</td>\n",
       "      <td>Central</td>\n",
       "      <td>Y</td>\n",
       "      <td>3</td>\n",
       "      <td>105.7</td>\n",
       "      <td>3.343557</td>\n",
       "    </tr>\n",
       "    <tr>\n",
       "      <th>28</th>\n",
       "      <td>Bill</td>\n",
       "      <td>7.1</td>\n",
       "      <td>9827300</td>\n",
       "      <td>36</td>\n",
       "      <td>Female</td>\n",
       "      <td>0</td>\n",
       "      <td>East</td>\n",
       "      <td>Y</td>\n",
       "      <td>3</td>\n",
       "      <td>116.8</td>\n",
       "      <td>4.100689</td>\n",
       "    </tr>\n",
       "  </tbody>\n",
       "</table>\n",
       "</div>"
      ],
      "text/plain": [
       "   Employee  YearsExperience   Salary  Age  Gender  RemoteStatus   Region  \\\n",
       "1      Nick              5.9  8136300   39  Female             0  Central   \n",
       "28     Bill              7.1  9827300   36  Female             0     East   \n",
       "\n",
       "   CompanyCar  Shift  PerformanceReviewScore  zscore_salary  \n",
       "1           Y      3                   105.7       3.343557  \n",
       "28          Y      3                   116.8       4.100689  "
      ]
     },
     "execution_count": 31,
     "metadata": {},
     "output_type": "execute_result"
    }
   ],
   "source": [
    "## What information can we find at these index locations?\n",
    "\n",
    "dfz.iloc[[1, 28]]"
   ]
  },
  {
   "cell_type": "code",
   "execution_count": 32,
   "id": "7e5df5c5",
   "metadata": {},
   "outputs": [
    {
     "name": "stdout",
     "output_type": "stream",
     "text": [
      "(28, 11)\n"
     ]
    }
   ],
   "source": [
    "## Drop rows with above index values\n",
    "dfz = dfz.drop(z_outliers)\n",
    "\n",
    "## Re-check the shape of the dataframe, how many rows were dropped?\n",
    "print(dfz.shape)"
   ]
  },
  {
   "cell_type": "markdown",
   "id": "93017c0c",
   "metadata": {},
   "source": [
    "## Method 2 : Using the Interquartile Range (IQR) to detect and remove outliers\n",
    "\n",
    "The <font color=salmon><b>Interquartile Range (IQR)</b></font> is the difference between the first and third quartile in a set of data. The IQR can be considered where the bulk of the data values rest. IQR is calculated by the following equation: <B>IQR = Q3 - Q1</B>\n",
    "<img src=\"IQR.png\">\n",
    "_____________________\n",
    "\n",
    "The IQR can be used to create \"fences\" or cut-off values that determine which values fall outside of the acceptable data range. For example, we can calculate a lower-limit -- all values falling below this limit will be considered an outlier. The <b>1.5 Rule</b> is a commonly used method for determining the upper and lower cut-off limits. According to this rule, a value is considered an outlier if it falls:\n",
    "\n",
    "* ... below Q1 - (1.5 x IQR)\n",
    "\n",
    "* ... above Q3 + (1.5 x IQR)\n",
    "_____________________\n",
    "\n",
    "#### 1.5 Rule Example:\n",
    "\n",
    "A professor is tracking the number of absences for each of their students. They have compiled a list of the number of absences: \n",
    "\n",
    "    1, 3, [4], 6, 7, [7], 8, 8, [9], 22, 37 \n",
    "\n",
    "In this list of data, we can find the following values:\n",
    "\n",
    "* Q1 = 4\n",
    "* Q2 (median) = 7\n",
    "* Q3 = 9\n",
    "\n",
    "With these values, you can easily calculate the IQR:\n",
    "\n",
    "* <B>IQR</B> = Q3(9) - Q1(4)\n",
    "* <B>IQR</B> = 5\n",
    "\n",
    "Once you have the IQR, you can calculate the upper and lower limits for detecting outliers:\n",
    "\n",
    "* Upper Limit = Q3(9) + [1.5 * IQR(5)] = <b> 16.5 </b>\n",
    "* Lower Limit = Q1(4) - [1.5 * IQR(5)] = <b> -3.5 </b>\n",
    "\n",
    "Values that fall above the upper limit are outliers; values that fall below the lower limit are outliers\n",
    "_______________________ \n",
    "\n",
    "#### Steps for Detecting and Removing Outliers with IQR\n",
    "\n",
    "* Calculate quartiles\n",
    "* Calculate IQR\n",
    "* Determine upper and lower limits\n",
    "* Drop values less than the lower and/or greater than the upper"
   ]
  },
  {
   "cell_type": "code",
   "execution_count": 33,
   "id": "8694f11b",
   "metadata": {},
   "outputs": [
    {
     "data": {
      "text/plain": [
       "(30, 10)"
      ]
     },
     "execution_count": 33,
     "metadata": {},
     "output_type": "execute_result"
    }
   ],
   "source": [
    "## Create a copy of original dataset\n",
    "dfq = df.copy()\n",
    "\n",
    "## Check original shape of the dataset\n",
    "dfq.shape"
   ]
  },
  {
   "cell_type": "code",
   "execution_count": 34,
   "id": "e84c2fe4",
   "metadata": {},
   "outputs": [
    {
     "name": "stdout",
     "output_type": "stream",
     "text": [
      "Q1: 48265.0\n",
      "Q3: 104512.0\n"
     ]
    }
   ],
   "source": [
    "## Calculate quartiles\n",
    "q1 = dfq[\"Salary\"].quantile(.25)\n",
    "q3 = dfq[\"Salary\"].quantile(.75)\n",
    "\n",
    "print(\"Q1:\", q1)\n",
    "print(\"Q3:\", q3)"
   ]
  },
  {
   "cell_type": "code",
   "execution_count": 35,
   "id": "9b36fb73",
   "metadata": {},
   "outputs": [
    {
     "name": "stdout",
     "output_type": "stream",
     "text": [
      "IQR: 56247.0\n"
     ]
    }
   ],
   "source": [
    "## Calculate the IQR\n",
    "iqr = q3 - q1\n",
    "\n",
    "print(\"IQR:\", iqr)"
   ]
  },
  {
   "cell_type": "code",
   "execution_count": 36,
   "id": "50fabd5f",
   "metadata": {},
   "outputs": [
    {
     "name": "stdout",
     "output_type": "stream",
     "text": [
      "Upper Limit: 188882.5\n",
      "Lower Limit: -36105.5\n"
     ]
    }
   ],
   "source": [
    "## Determine outlier fences \n",
    "top = q3 + (iqr * 1.5)\n",
    "bottom = q1 - (iqr * 1.5)\n",
    "\n",
    "\n",
    "print(\"Upper Limit:\", top)\n",
    "print(\"Lower Limit:\", bottom)"
   ]
  },
  {
   "cell_type": "code",
   "execution_count": 37,
   "id": "3040926b",
   "metadata": {},
   "outputs": [
    {
     "name": "stdout",
     "output_type": "stream",
     "text": [
      "INDEX VALUES: Int64Index([1, 12, 28], dtype='int64')\n"
     ]
    }
   ],
   "source": [
    "## Determine the index locations for rows that fall outside of outlier fences\n",
    "\n",
    "iqr_outliers = dfq.loc[(dfq['Salary'] > top) | (dfq['Salary'] < bottom)].index\n",
    "\n",
    "print(\"INDEX VALUES:\", iqr_outliers)"
   ]
  },
  {
   "cell_type": "code",
   "execution_count": 38,
   "id": "49d819df",
   "metadata": {},
   "outputs": [
    {
     "data": {
      "text/html": [
       "<div>\n",
       "<style scoped>\n",
       "    .dataframe tbody tr th:only-of-type {\n",
       "        vertical-align: middle;\n",
       "    }\n",
       "\n",
       "    .dataframe tbody tr th {\n",
       "        vertical-align: top;\n",
       "    }\n",
       "\n",
       "    .dataframe thead th {\n",
       "        text-align: right;\n",
       "    }\n",
       "</style>\n",
       "<table border=\"1\" class=\"dataframe\">\n",
       "  <thead>\n",
       "    <tr style=\"text-align: right;\">\n",
       "      <th></th>\n",
       "      <th>Employee</th>\n",
       "      <th>YearsExperience</th>\n",
       "      <th>Salary</th>\n",
       "      <th>Age</th>\n",
       "      <th>Gender</th>\n",
       "      <th>RemoteStatus</th>\n",
       "      <th>Region</th>\n",
       "      <th>CompanyCar</th>\n",
       "      <th>Shift</th>\n",
       "      <th>PerformanceReviewScore</th>\n",
       "    </tr>\n",
       "  </thead>\n",
       "  <tbody>\n",
       "    <tr>\n",
       "      <th>1</th>\n",
       "      <td>Nick</td>\n",
       "      <td>5.9</td>\n",
       "      <td>8136300</td>\n",
       "      <td>39</td>\n",
       "      <td>Female</td>\n",
       "      <td>0</td>\n",
       "      <td>Central</td>\n",
       "      <td>Y</td>\n",
       "      <td>3</td>\n",
       "      <td>105.7</td>\n",
       "    </tr>\n",
       "    <tr>\n",
       "      <th>12</th>\n",
       "      <td>Thomas</td>\n",
       "      <td>1.5</td>\n",
       "      <td>377310</td>\n",
       "      <td>46</td>\n",
       "      <td>Male</td>\n",
       "      <td>1</td>\n",
       "      <td>Central</td>\n",
       "      <td>Y</td>\n",
       "      <td>1</td>\n",
       "      <td>63.8</td>\n",
       "    </tr>\n",
       "    <tr>\n",
       "      <th>28</th>\n",
       "      <td>Bill</td>\n",
       "      <td>7.1</td>\n",
       "      <td>9827300</td>\n",
       "      <td>36</td>\n",
       "      <td>Female</td>\n",
       "      <td>0</td>\n",
       "      <td>East</td>\n",
       "      <td>Y</td>\n",
       "      <td>3</td>\n",
       "      <td>116.8</td>\n",
       "    </tr>\n",
       "  </tbody>\n",
       "</table>\n",
       "</div>"
      ],
      "text/plain": [
       "   Employee  YearsExperience   Salary  Age  Gender  RemoteStatus   Region  \\\n",
       "1      Nick              5.9  8136300   39  Female             0  Central   \n",
       "12   Thomas              1.5   377310   46    Male             1  Central   \n",
       "28     Bill              7.1  9827300   36  Female             0     East   \n",
       "\n",
       "   CompanyCar  Shift  PerformanceReviewScore  \n",
       "1           Y      3                   105.7  \n",
       "12          Y      1                    63.8  \n",
       "28          Y      3                   116.8  "
      ]
     },
     "execution_count": 38,
     "metadata": {},
     "output_type": "execute_result"
    }
   ],
   "source": [
    "## what values can we find at these index locations?\n",
    "\n",
    "dfq.iloc[[1, 12, 28]]"
   ]
  },
  {
   "cell_type": "code",
   "execution_count": 39,
   "id": "23df0d4a",
   "metadata": {},
   "outputs": [
    {
     "name": "stdout",
     "output_type": "stream",
     "text": [
      "(27, 10)\n"
     ]
    }
   ],
   "source": [
    "## Drop rows with above index values\n",
    "dfq = dfq.drop(iqr_outliers)\n",
    "\n",
    "## Re-check the shape of the dataframe, how many rows were dropped?\n",
    "print(dfq.shape)"
   ]
  },
  {
   "cell_type": "markdown",
   "id": "6e148156",
   "metadata": {},
   "source": [
    "# { Module 10 Homework }"
   ]
  },
  {
   "cell_type": "markdown",
   "id": "736faa7d",
   "metadata": {},
   "source": [
    "1. Import the \"babies.xlsx\" dataset. See below for information on the columns:\n",
    "\n",
    "    * bwt - birth weight of newborn baby\n",
    "    * gestation\t- gestation length (weeks)\n",
    "    * parity - previously pregnant (0 = no; 1 = yes)\n",
    "    * age - age of mother\n",
    "    * height - height of mother (inches)\t\n",
    "    * weight - weight of mother (pounds)\n",
    "    * smoke - smoking status of mother (0 = nonsmoker; 1 = smoker)"
   ]
  },
  {
   "cell_type": "code",
   "execution_count": 40,
   "id": "ac6ef2f4",
   "metadata": {},
   "outputs": [
    {
     "data": {
      "text/html": [
       "<div>\n",
       "<style scoped>\n",
       "    .dataframe tbody tr th:only-of-type {\n",
       "        vertical-align: middle;\n",
       "    }\n",
       "\n",
       "    .dataframe tbody tr th {\n",
       "        vertical-align: top;\n",
       "    }\n",
       "\n",
       "    .dataframe thead th {\n",
       "        text-align: right;\n",
       "    }\n",
       "</style>\n",
       "<table border=\"1\" class=\"dataframe\">\n",
       "  <thead>\n",
       "    <tr style=\"text-align: right;\">\n",
       "      <th></th>\n",
       "      <th>bwt</th>\n",
       "      <th>gestation</th>\n",
       "      <th>parity</th>\n",
       "      <th>age</th>\n",
       "      <th>height</th>\n",
       "      <th>weight</th>\n",
       "      <th>smoke</th>\n",
       "    </tr>\n",
       "  </thead>\n",
       "  <tbody>\n",
       "    <tr>\n",
       "      <th>0</th>\n",
       "      <td>120</td>\n",
       "      <td>284.0</td>\n",
       "      <td>no</td>\n",
       "      <td>27.0</td>\n",
       "      <td>62.0</td>\n",
       "      <td>100.0</td>\n",
       "      <td>nonsmoker</td>\n",
       "    </tr>\n",
       "    <tr>\n",
       "      <th>1</th>\n",
       "      <td>113</td>\n",
       "      <td>282.0</td>\n",
       "      <td>no</td>\n",
       "      <td>33.0</td>\n",
       "      <td>64.0</td>\n",
       "      <td>135.0</td>\n",
       "      <td>nonsmoker</td>\n",
       "    </tr>\n",
       "    <tr>\n",
       "      <th>2</th>\n",
       "      <td>128</td>\n",
       "      <td>279.0</td>\n",
       "      <td>no</td>\n",
       "      <td>28.0</td>\n",
       "      <td>64.0</td>\n",
       "      <td>77.0</td>\n",
       "      <td>smoker</td>\n",
       "    </tr>\n",
       "    <tr>\n",
       "      <th>3</th>\n",
       "      <td>123</td>\n",
       "      <td>NaN</td>\n",
       "      <td>no</td>\n",
       "      <td>36.0</td>\n",
       "      <td>69.0</td>\n",
       "      <td>190.0</td>\n",
       "      <td>nonsmoker</td>\n",
       "    </tr>\n",
       "    <tr>\n",
       "      <th>4</th>\n",
       "      <td>108</td>\n",
       "      <td>282.0</td>\n",
       "      <td>no</td>\n",
       "      <td>23.0</td>\n",
       "      <td>67.0</td>\n",
       "      <td>125.0</td>\n",
       "      <td>smoker</td>\n",
       "    </tr>\n",
       "  </tbody>\n",
       "</table>\n",
       "</div>"
      ],
      "text/plain": [
       "   bwt  gestation parity   age  height  weight      smoke\n",
       "0  120      284.0     no  27.0    62.0   100.0  nonsmoker\n",
       "1  113      282.0     no  33.0    64.0   135.0  nonsmoker\n",
       "2  128      279.0     no  28.0    64.0    77.0     smoker\n",
       "3  123        NaN     no  36.0    69.0   190.0  nonsmoker\n",
       "4  108      282.0     no  23.0    67.0   125.0     smoker"
      ]
     },
     "execution_count": 40,
     "metadata": {},
     "output_type": "execute_result"
    }
   ],
   "source": [
    "import pandas as pd\n",
    "import numpy as np\n",
    "import scipy.stats as stats\n",
    "\n",
    "bb = pd.read_excel(\"babies.xlsx\")\n",
    "bb.head()"
   ]
  },
  {
   "cell_type": "markdown",
   "id": "e04bfa22",
   "metadata": {},
   "source": [
    "2. Preview the first few rows of the dataset. Complete the following checks for your dataset:\n",
    "\n",
    "    * output the summary information for the dataset, what types of variables make up this dataset?\n",
    "    * is there any missing data in this dataset?"
   ]
  },
  {
   "cell_type": "code",
   "execution_count": 41,
   "id": "d86263ee",
   "metadata": {},
   "outputs": [
    {
     "name": "stdout",
     "output_type": "stream",
     "text": [
      "<class 'pandas.core.frame.DataFrame'>\n",
      "RangeIndex: 1236 entries, 0 to 1235\n",
      "Data columns (total 7 columns):\n",
      " #   Column     Non-Null Count  Dtype  \n",
      "---  ------     --------------  -----  \n",
      " 0   bwt        1236 non-null   int64  \n",
      " 1   gestation  1223 non-null   float64\n",
      " 2   parity     1236 non-null   object \n",
      " 3   age        1234 non-null   float64\n",
      " 4   height     1214 non-null   float64\n",
      " 5   weight     1200 non-null   float64\n",
      " 6   smoke      1226 non-null   object \n",
      "dtypes: float64(4), int64(1), object(2)\n",
      "memory usage: 67.7+ KB\n"
     ]
    }
   ],
   "source": [
    "bb.info()"
   ]
  },
  {
   "cell_type": "code",
   "execution_count": 42,
   "id": "0452d59f",
   "metadata": {},
   "outputs": [
    {
     "name": "stdout",
     "output_type": "stream",
     "text": [
      "(1236, 7)\n"
     ]
    }
   ],
   "source": [
    "print(bb.shape)"
   ]
  },
  {
   "cell_type": "code",
   "execution_count": 43,
   "id": "c35f7455",
   "metadata": {},
   "outputs": [
    {
     "data": {
      "text/plain": [
       "bwt           0\n",
       "gestation    13\n",
       "parity        0\n",
       "age           2\n",
       "height       22\n",
       "weight       36\n",
       "smoke        10\n",
       "dtype: int64"
      ]
     },
     "execution_count": 43,
     "metadata": {},
     "output_type": "execute_result"
    }
   ],
   "source": [
    "bb_copy = bb.copy\n",
    "bb.isnull().sum()"
   ]
  },
  {
   "cell_type": "markdown",
   "id": "f2a9f160",
   "metadata": {},
   "source": [
    "3. Handle the missing data in the dataset -- there isn't much, so we can drop all the rows that have at least one missing value. How many rows were dropped from the dataset?"
   ]
  },
  {
   "cell_type": "code",
   "execution_count": 44,
   "id": "47b14b69",
   "metadata": {},
   "outputs": [],
   "source": [
    "bb.dropna(inplace = True)"
   ]
  },
  {
   "cell_type": "code",
   "execution_count": 45,
   "id": "10d07a85",
   "metadata": {},
   "outputs": [
    {
     "data": {
      "text/plain": [
       "bwt          0\n",
       "gestation    0\n",
       "parity       0\n",
       "age          0\n",
       "height       0\n",
       "weight       0\n",
       "smoke        0\n",
       "dtype: int64"
      ]
     },
     "execution_count": 45,
     "metadata": {},
     "output_type": "execute_result"
    }
   ],
   "source": [
    "bb.isnull().sum()"
   ]
  },
  {
   "cell_type": "code",
   "execution_count": 46,
   "id": "9b362c54",
   "metadata": {},
   "outputs": [
    {
     "name": "stdout",
     "output_type": "stream",
     "text": [
      "(1174, 7)\n"
     ]
    },
    {
     "data": {
      "text/html": [
       "<div>\n",
       "<style scoped>\n",
       "    .dataframe tbody tr th:only-of-type {\n",
       "        vertical-align: middle;\n",
       "    }\n",
       "\n",
       "    .dataframe tbody tr th {\n",
       "        vertical-align: top;\n",
       "    }\n",
       "\n",
       "    .dataframe thead th {\n",
       "        text-align: right;\n",
       "    }\n",
       "</style>\n",
       "<table border=\"1\" class=\"dataframe\">\n",
       "  <thead>\n",
       "    <tr style=\"text-align: right;\">\n",
       "      <th></th>\n",
       "      <th>bwt</th>\n",
       "      <th>gestation</th>\n",
       "      <th>parity</th>\n",
       "      <th>age</th>\n",
       "      <th>height</th>\n",
       "      <th>weight</th>\n",
       "      <th>smoke</th>\n",
       "    </tr>\n",
       "  </thead>\n",
       "  <tbody>\n",
       "    <tr>\n",
       "      <th>0</th>\n",
       "      <td>120</td>\n",
       "      <td>284.0</td>\n",
       "      <td>no</td>\n",
       "      <td>27.0</td>\n",
       "      <td>62.0</td>\n",
       "      <td>100.0</td>\n",
       "      <td>nonsmoker</td>\n",
       "    </tr>\n",
       "    <tr>\n",
       "      <th>1</th>\n",
       "      <td>113</td>\n",
       "      <td>282.0</td>\n",
       "      <td>no</td>\n",
       "      <td>33.0</td>\n",
       "      <td>64.0</td>\n",
       "      <td>135.0</td>\n",
       "      <td>nonsmoker</td>\n",
       "    </tr>\n",
       "    <tr>\n",
       "      <th>2</th>\n",
       "      <td>128</td>\n",
       "      <td>279.0</td>\n",
       "      <td>no</td>\n",
       "      <td>28.0</td>\n",
       "      <td>64.0</td>\n",
       "      <td>77.0</td>\n",
       "      <td>smoker</td>\n",
       "    </tr>\n",
       "    <tr>\n",
       "      <th>4</th>\n",
       "      <td>108</td>\n",
       "      <td>282.0</td>\n",
       "      <td>no</td>\n",
       "      <td>23.0</td>\n",
       "      <td>67.0</td>\n",
       "      <td>125.0</td>\n",
       "      <td>smoker</td>\n",
       "    </tr>\n",
       "    <tr>\n",
       "      <th>5</th>\n",
       "      <td>136</td>\n",
       "      <td>286.0</td>\n",
       "      <td>no</td>\n",
       "      <td>25.0</td>\n",
       "      <td>62.0</td>\n",
       "      <td>93.0</td>\n",
       "      <td>nonsmoker</td>\n",
       "    </tr>\n",
       "  </tbody>\n",
       "</table>\n",
       "</div>"
      ],
      "text/plain": [
       "   bwt  gestation parity   age  height  weight      smoke\n",
       "0  120      284.0     no  27.0    62.0   100.0  nonsmoker\n",
       "1  113      282.0     no  33.0    64.0   135.0  nonsmoker\n",
       "2  128      279.0     no  28.0    64.0    77.0     smoker\n",
       "4  108      282.0     no  23.0    67.0   125.0     smoker\n",
       "5  136      286.0     no  25.0    62.0    93.0  nonsmoker"
      ]
     },
     "execution_count": 46,
     "metadata": {},
     "output_type": "execute_result"
    }
   ],
   "source": [
    "print(bb.shape)\n",
    "bb.head() #new dataset"
   ]
  },
  {
   "cell_type": "code",
   "execution_count": 47,
   "id": "149e0426",
   "metadata": {},
   "outputs": [
    {
     "name": "stdout",
     "output_type": "stream",
     "text": [
      "62 rows were dropped from the dataset\n"
     ]
    }
   ],
   "source": [
    "print(\"{} rows were dropped from the dataset\".format(1236-1174))"
   ]
  },
  {
   "cell_type": "markdown",
   "id": "562e6e31",
   "metadata": {},
   "source": [
    "4. There are two qualitative variables in this dataset. What are they? How do you know they are qualitative variables?"
   ]
  },
  {
   "cell_type": "code",
   "execution_count": 48,
   "id": "d52b1b11",
   "metadata": {},
   "outputs": [],
   "source": [
    "#Parity and Smoke because they have string values"
   ]
  },
  {
   "cell_type": "markdown",
   "id": "eaee4ec8",
   "metadata": {},
   "source": [
    "5. Replace the values in the qualitative variables with meaningful labels that describe the different groups. Use any method you've learned in previous modules to complete this task. "
   ]
  },
  {
   "cell_type": "code",
   "execution_count": 49,
   "id": "0ded02fe",
   "metadata": {},
   "outputs": [
    {
     "data": {
      "text/html": [
       "<div>\n",
       "<style scoped>\n",
       "    .dataframe tbody tr th:only-of-type {\n",
       "        vertical-align: middle;\n",
       "    }\n",
       "\n",
       "    .dataframe tbody tr th {\n",
       "        vertical-align: top;\n",
       "    }\n",
       "\n",
       "    .dataframe thead th {\n",
       "        text-align: right;\n",
       "    }\n",
       "</style>\n",
       "<table border=\"1\" class=\"dataframe\">\n",
       "  <thead>\n",
       "    <tr style=\"text-align: right;\">\n",
       "      <th></th>\n",
       "      <th>bwt</th>\n",
       "      <th>gestation</th>\n",
       "      <th>parity</th>\n",
       "      <th>age</th>\n",
       "      <th>height</th>\n",
       "      <th>weight</th>\n",
       "      <th>smoke</th>\n",
       "    </tr>\n",
       "  </thead>\n",
       "  <tbody>\n",
       "    <tr>\n",
       "      <th>0</th>\n",
       "      <td>120</td>\n",
       "      <td>284.0</td>\n",
       "      <td>0</td>\n",
       "      <td>27.0</td>\n",
       "      <td>62.0</td>\n",
       "      <td>100.0</td>\n",
       "      <td>0</td>\n",
       "    </tr>\n",
       "    <tr>\n",
       "      <th>1</th>\n",
       "      <td>113</td>\n",
       "      <td>282.0</td>\n",
       "      <td>0</td>\n",
       "      <td>33.0</td>\n",
       "      <td>64.0</td>\n",
       "      <td>135.0</td>\n",
       "      <td>0</td>\n",
       "    </tr>\n",
       "    <tr>\n",
       "      <th>2</th>\n",
       "      <td>128</td>\n",
       "      <td>279.0</td>\n",
       "      <td>0</td>\n",
       "      <td>28.0</td>\n",
       "      <td>64.0</td>\n",
       "      <td>77.0</td>\n",
       "      <td>1</td>\n",
       "    </tr>\n",
       "    <tr>\n",
       "      <th>4</th>\n",
       "      <td>108</td>\n",
       "      <td>282.0</td>\n",
       "      <td>0</td>\n",
       "      <td>23.0</td>\n",
       "      <td>67.0</td>\n",
       "      <td>125.0</td>\n",
       "      <td>1</td>\n",
       "    </tr>\n",
       "    <tr>\n",
       "      <th>5</th>\n",
       "      <td>136</td>\n",
       "      <td>286.0</td>\n",
       "      <td>0</td>\n",
       "      <td>25.0</td>\n",
       "      <td>62.0</td>\n",
       "      <td>93.0</td>\n",
       "      <td>0</td>\n",
       "    </tr>\n",
       "  </tbody>\n",
       "</table>\n",
       "</div>"
      ],
      "text/plain": [
       "   bwt  gestation  parity   age  height  weight  smoke\n",
       "0  120      284.0       0  27.0    62.0   100.0      0\n",
       "1  113      282.0       0  33.0    64.0   135.0      0\n",
       "2  128      279.0       0  28.0    64.0    77.0      1\n",
       "4  108      282.0       0  23.0    67.0   125.0      1\n",
       "5  136      286.0       0  25.0    62.0    93.0      0"
      ]
     },
     "execution_count": 49,
     "metadata": {},
     "output_type": "execute_result"
    }
   ],
   "source": [
    "bbn = bb.replace(to_replace = [\"no\", \"yes\", \"nonsmoker\", \"smoker\"], value = [0,1,0,1])\n",
    "bbn.head()"
   ]
  },
  {
   "cell_type": "code",
   "execution_count": 50,
   "id": "d3a28e76",
   "metadata": {},
   "outputs": [
    {
     "name": "stdout",
     "output_type": "stream",
     "text": [
      "(1174, 7)\n"
     ]
    }
   ],
   "source": [
    "bbnc = bbn.copy()\n",
    "print(bbn.shape)"
   ]
  },
  {
   "cell_type": "markdown",
   "id": "6974eb82",
   "metadata": {},
   "source": [
    "6. Before we move forward with any statistics, let's identify and remove any outliers from the dataset. Using the IQR method, search for outliers in the 5 numeric variables. This will take some time and organization, be careful with your code! Make sure you keep track of how many rows/outliers are removed. "
   ]
  },
  {
   "cell_type": "code",
   "execution_count": null,
   "id": "cd3c63c0",
   "metadata": {},
   "outputs": [],
   "source": [
    "# Outliers\n",
    "#Outliers are the Dtype int and float"
   ]
  },
  {
   "cell_type": "code",
   "execution_count": 52,
   "id": "3070de25",
   "metadata": {},
   "outputs": [
    {
     "name": "stdout",
     "output_type": "stream",
     "text": [
      "Q1_bwt: 108.0\n",
      "Q3_bwt: 131.0\n",
      " \n",
      "Q1_gestation: 272.0\n",
      "Q3_gestation: 288.0\n",
      " \n",
      "Q1_age: 23.0\n",
      "Q3_age: 31.0\n",
      " \n",
      "Q1_height: 62.0\n",
      "Q3_height: 66.0\n",
      " \n",
      "Q1_weight: 114.0\n",
      "Q3_weight: 139.75\n"
     ]
    }
   ],
   "source": [
    "## Calculate quartiles of Outliers\n",
    "\n",
    "#bwt\n",
    "q1b = bbn[\"bwt\"].quantile(.25)\n",
    "q3b = bbn[\"bwt\"].quantile(.75)\n",
    "\n",
    "print(\"Q1_bwt:\", q1b)\n",
    "print(\"Q3_bwt:\", q3b)\n",
    "print(\" \")\n",
    "\n",
    "#gestation\n",
    "q1g = bbn[\"gestation\"].quantile(.25)\n",
    "q3g = bbn[\"gestation\"].quantile(.75)\n",
    "\n",
    "print(\"Q1_gestation:\", q1g)\n",
    "print(\"Q3_gestation:\", q3g)\n",
    "print(\" \")\n",
    "\n",
    "#age\n",
    "q1a = bbn[\"age\"].quantile(.25)\n",
    "q3a = bbn[\"age\"].quantile(.75)\n",
    "\n",
    "print(\"Q1_age:\", q1a)\n",
    "print(\"Q3_age:\", q3a)\n",
    "print(\" \")\n",
    "\n",
    "#height\n",
    "q1h = bbn[\"height\"].quantile(.25)\n",
    "q3h = bbn[\"height\"].quantile(.75)\n",
    "\n",
    "print(\"Q1_height:\", q1h)\n",
    "print(\"Q3_height:\", q3h)\n",
    "print(\" \")\n",
    "\n",
    "#weight\n",
    "q1w = bbn[\"weight\"].quantile(.25)\n",
    "q3w = bbn[\"weight\"].quantile(.75)\n",
    "\n",
    "print(\"Q1_weight:\", q1w)\n",
    "print(\"Q3_weight:\", q3w)"
   ]
  },
  {
   "cell_type": "code",
   "execution_count": 53,
   "id": "a7eb6dbf",
   "metadata": {},
   "outputs": [
    {
     "name": "stdout",
     "output_type": "stream",
     "text": [
      "IQR_bwt: 23.0\n",
      " \n",
      "IQR_gestation: 16.0\n",
      " \n",
      "IQR_age: 8.0\n",
      " \n",
      "IQR_height: 4.0\n",
      " \n",
      "IQR_weight: 25.75\n",
      " \n"
     ]
    }
   ],
   "source": [
    "## Calculating the IQR\n",
    "\n",
    "#bwt\n",
    "iqrb = q3b - q1b\n",
    "\n",
    "print(\"IQR_bwt:\", iqrb)\n",
    "print(\" \")\n",
    "\n",
    "#gestation\n",
    "iqrg = q3g - q1g\n",
    "\n",
    "print(\"IQR_gestation:\", iqrg)\n",
    "print(\" \")\n",
    "\n",
    "#age\n",
    "iqra = q3a - q1a\n",
    "\n",
    "print(\"IQR_age:\", iqra)\n",
    "print(\" \")\n",
    "\n",
    "#height\n",
    "iqrh = q3h - q1h\n",
    "\n",
    "print(\"IQR_height:\", iqrh)\n",
    "print(\" \")\n",
    "\n",
    "#weight\n",
    "iqrw = q3w - q1w\n",
    "\n",
    "print(\"IQR_weight:\", iqrw)\n",
    "print(\" \")"
   ]
  },
  {
   "cell_type": "code",
   "execution_count": 54,
   "id": "a10042c1",
   "metadata": {},
   "outputs": [
    {
     "name": "stdout",
     "output_type": "stream",
     "text": [
      "Upper Limit_bwt: 165.5\n",
      "Lower Limit_bwt: 73.5\n",
      " \n",
      "Upper Limit_gestation: 312.0\n",
      "Lower Limit_gestation: 248.0\n",
      " \n",
      "Upper Limit_age: 43.0\n",
      "Lower Limit_age: 11.0\n",
      " \n",
      "Upper Limit_height: 72.0\n",
      "Lower Limit_height: 56.0\n",
      " \n",
      "Upper Limit_weight: 178.375\n",
      "Lower Limit_weight: 75.375\n",
      " \n"
     ]
    }
   ],
   "source": [
    "## Determining outlier fences\n",
    "\n",
    "#bwt\n",
    "topb = q3b + (iqrb * 1.5)\n",
    "bottomb = q1b - (iqrb * 1.5)\n",
    "\n",
    "print(\"Upper Limit_bwt:\", topb)\n",
    "print(\"Lower Limit_bwt:\", bottomb)\n",
    "print(\" \")\n",
    "\n",
    "#gestation\n",
    "topg = q3g + (iqrg * 1.5)\n",
    "bottomg = q1g - (iqrg * 1.5)\n",
    "\n",
    "print(\"Upper Limit_gestation:\", topg)\n",
    "print(\"Lower Limit_gestation:\", bottomg)\n",
    "print(\" \")\n",
    "\n",
    "#age\n",
    "topa = q3a + (iqra * 1.5)\n",
    "bottoma = q1a - (iqra * 1.5)\n",
    "\n",
    "print(\"Upper Limit_age:\", topa)\n",
    "print(\"Lower Limit_age:\", bottoma)\n",
    "print(\" \")\n",
    "\n",
    "#height\n",
    "toph = q3h + (iqrh * 1.5)\n",
    "bottomh = q1h - (iqrh * 1.5)\n",
    "\n",
    "print(\"Upper Limit_height:\", toph)\n",
    "print(\"Lower Limit_height:\", bottomh)\n",
    "print(\" \")\n",
    "\n",
    "#weight\n",
    "topw = q3w + (iqrw * 1.5)\n",
    "bottomw = q1w - (iqrw * 1.5)\n",
    "\n",
    "print(\"Upper Limit_weight:\", topw)\n",
    "print(\"Lower Limit_weight:\", bottomw)\n",
    "print(\" \")"
   ]
  },
  {
   "cell_type": "code",
   "execution_count": 55,
   "id": "6a9de454",
   "metadata": {},
   "outputs": [
    {
     "name": "stdout",
     "output_type": "stream",
     "text": [
      "INDEX VALUES_bwt: Int64Index([ 239,  309,  361,  462,  500,  529,  556,  594,  632,  709,  738,\n",
      "             747,  829,  904,  912,  978, 1021, 1035, 1063, 1065, 1099, 1139,\n",
      "            1148, 1169],\n",
      "           dtype='int64')\n",
      " \n",
      "INDEX VALUES_gestation: Int64Index([   6,    7,   10,   59,   63,   66,  119,  129,  155,  188,  192,\n",
      "             198,  210,  215,  217,  234,  240,  253,  260,  279,  345,  361,\n",
      "             373,  394,  440,  460,  462,  484,  500,  511,  523,  630,  685,\n",
      "             699,  710,  726,  746,  761,  769,  778,  784,  828,  829,  830,\n",
      "             833,  869,  912,  927,  952,  969,  978, 1002, 1020, 1026, 1035,\n",
      "            1065, 1074, 1134, 1139, 1140, 1142, 1146, 1152, 1172, 1178, 1199,\n",
      "            1206, 1207, 1217, 1219, 1226],\n",
      "           dtype='int64')\n",
      " \n",
      "INDEX VALUES_age: Int64Index([633, 1070], dtype='int64')\n",
      " \n",
      "INDEX VALUES_height: Int64Index([434, 1208], dtype='int64')\n",
      " \n",
      "INDEX VALUES_weight: Int64Index([  14,   23,   88,  117,  125,  149,  162,  181,  183,  222,  240,\n",
      "             287,  314,  344,  411,  426,  458,  512,  522,  528,  563,  595,\n",
      "             608,  622,  632,  723,  733,  747,  849,  858,  859,  865,  888,\n",
      "             911,  924, 1008, 1021, 1148, 1167, 1212, 1219, 1233],\n",
      "           dtype='int64')\n",
      " \n"
     ]
    }
   ],
   "source": [
    "## Determine the index locations for rows that fall outside of outlier fences\n",
    "\n",
    "#bwt\n",
    "iqr_outliersb = bbn.loc[(bb['bwt'] > topb) | (bbn['bwt'] < bottomb)].index\n",
    "\n",
    "print(\"INDEX VALUES_bwt:\", iqr_outliersb)\n",
    "print(\" \")\n",
    "\n",
    "#gestation\n",
    "iqr_outliersg = bbn.loc[(bbn['gestation'] > topg) | (bbn['gestation'] < bottomg)].index\n",
    "\n",
    "print(\"INDEX VALUES_gestation:\", iqr_outliersg)\n",
    "print(\" \")\n",
    "\n",
    "#age\n",
    "iqr_outliersa = bbn.loc[(bb['age'] > topa) | (bbn['age'] < bottoma)].index\n",
    "\n",
    "print(\"INDEX VALUES_age:\", iqr_outliersa)\n",
    "print(\" \")\n",
    "\n",
    "#height\n",
    "iqr_outliersh = bbn.loc[(bbn['height'] > toph) | (bbn['height'] < bottomh)].index\n",
    "\n",
    "print(\"INDEX VALUES_height:\", iqr_outliersh)\n",
    "print(\" \")\n",
    "\n",
    "#weight\n",
    "iqr_outliersw = bb.loc[(bbn['weight'] > topw) | (bbn['weight'] < bottomw)].index\n",
    "\n",
    "print(\"INDEX VALUES_weight:\", iqr_outliersw)\n",
    "print(\" \")"
   ]
  },
  {
   "cell_type": "code",
   "execution_count": 56,
   "id": "05bf88dc",
   "metadata": {},
   "outputs": [
    {
     "data": {
      "text/html": [
       "<div>\n",
       "<style scoped>\n",
       "    .dataframe tbody tr th:only-of-type {\n",
       "        vertical-align: middle;\n",
       "    }\n",
       "\n",
       "    .dataframe tbody tr th {\n",
       "        vertical-align: top;\n",
       "    }\n",
       "\n",
       "    .dataframe thead th {\n",
       "        text-align: right;\n",
       "    }\n",
       "</style>\n",
       "<table border=\"1\" class=\"dataframe\">\n",
       "  <thead>\n",
       "    <tr style=\"text-align: right;\">\n",
       "      <th></th>\n",
       "      <th>bwt</th>\n",
       "      <th>gestation</th>\n",
       "      <th>parity</th>\n",
       "      <th>age</th>\n",
       "      <th>height</th>\n",
       "      <th>weight</th>\n",
       "      <th>smoke</th>\n",
       "    </tr>\n",
       "  </thead>\n",
       "  <tbody>\n",
       "    <tr>\n",
       "      <th>15</th>\n",
       "      <td>115</td>\n",
       "      <td>285.0</td>\n",
       "      <td>0</td>\n",
       "      <td>38.0</td>\n",
       "      <td>63.0</td>\n",
       "      <td>130.0</td>\n",
       "      <td>0</td>\n",
       "    </tr>\n",
       "    <tr>\n",
       "      <th>24</th>\n",
       "      <td>131</td>\n",
       "      <td>294.0</td>\n",
       "      <td>0</td>\n",
       "      <td>23.0</td>\n",
       "      <td>65.0</td>\n",
       "      <td>122.0</td>\n",
       "      <td>0</td>\n",
       "    </tr>\n",
       "    <tr>\n",
       "      <th>94</th>\n",
       "      <td>85</td>\n",
       "      <td>278.0</td>\n",
       "      <td>0</td>\n",
       "      <td>23.0</td>\n",
       "      <td>61.0</td>\n",
       "      <td>103.0</td>\n",
       "      <td>1</td>\n",
       "    </tr>\n",
       "    <tr>\n",
       "      <th>127</th>\n",
       "      <td>94</td>\n",
       "      <td>267.0</td>\n",
       "      <td>0</td>\n",
       "      <td>30.0</td>\n",
       "      <td>62.0</td>\n",
       "      <td>120.0</td>\n",
       "      <td>1</td>\n",
       "    </tr>\n",
       "    <tr>\n",
       "      <th>135</th>\n",
       "      <td>117</td>\n",
       "      <td>258.0</td>\n",
       "      <td>0</td>\n",
       "      <td>31.0</td>\n",
       "      <td>64.0</td>\n",
       "      <td>120.0</td>\n",
       "      <td>0</td>\n",
       "    </tr>\n",
       "    <tr>\n",
       "      <th>162</th>\n",
       "      <td>125</td>\n",
       "      <td>262.0</td>\n",
       "      <td>0</td>\n",
       "      <td>36.0</td>\n",
       "      <td>66.0</td>\n",
       "      <td>190.0</td>\n",
       "      <td>0</td>\n",
       "    </tr>\n",
       "    <tr>\n",
       "      <th>176</th>\n",
       "      <td>134</td>\n",
       "      <td>267.0</td>\n",
       "      <td>0</td>\n",
       "      <td>30.0</td>\n",
       "      <td>66.0</td>\n",
       "      <td>170.0</td>\n",
       "      <td>0</td>\n",
       "    </tr>\n",
       "    <tr>\n",
       "      <th>197</th>\n",
       "      <td>118</td>\n",
       "      <td>276.0</td>\n",
       "      <td>0</td>\n",
       "      <td>22.0</td>\n",
       "      <td>66.0</td>\n",
       "      <td>147.0</td>\n",
       "      <td>1</td>\n",
       "    </tr>\n",
       "    <tr>\n",
       "      <th>199</th>\n",
       "      <td>137</td>\n",
       "      <td>291.0</td>\n",
       "      <td>0</td>\n",
       "      <td>34.0</td>\n",
       "      <td>61.0</td>\n",
       "      <td>110.0</td>\n",
       "      <td>0</td>\n",
       "    </tr>\n",
       "    <tr>\n",
       "      <th>241</th>\n",
       "      <td>114</td>\n",
       "      <td>278.0</td>\n",
       "      <td>0</td>\n",
       "      <td>25.0</td>\n",
       "      <td>65.0</td>\n",
       "      <td>140.0</td>\n",
       "      <td>1</td>\n",
       "    </tr>\n",
       "    <tr>\n",
       "      <th>262</th>\n",
       "      <td>124</td>\n",
       "      <td>287.0</td>\n",
       "      <td>0</td>\n",
       "      <td>27.0</td>\n",
       "      <td>62.0</td>\n",
       "      <td>105.0</td>\n",
       "      <td>1</td>\n",
       "    </tr>\n",
       "    <tr>\n",
       "      <th>309</th>\n",
       "      <td>71</td>\n",
       "      <td>281.0</td>\n",
       "      <td>0</td>\n",
       "      <td>32.0</td>\n",
       "      <td>60.0</td>\n",
       "      <td>117.0</td>\n",
       "      <td>1</td>\n",
       "    </tr>\n",
       "    <tr>\n",
       "      <th>338</th>\n",
       "      <td>111</td>\n",
       "      <td>270.0</td>\n",
       "      <td>0</td>\n",
       "      <td>22.0</td>\n",
       "      <td>59.0</td>\n",
       "      <td>103.0</td>\n",
       "      <td>0</td>\n",
       "    </tr>\n",
       "    <tr>\n",
       "      <th>371</th>\n",
       "      <td>124</td>\n",
       "      <td>294.0</td>\n",
       "      <td>0</td>\n",
       "      <td>26.0</td>\n",
       "      <td>62.0</td>\n",
       "      <td>122.0</td>\n",
       "      <td>0</td>\n",
       "    </tr>\n",
       "    <tr>\n",
       "      <th>442</th>\n",
       "      <td>100</td>\n",
       "      <td>275.0</td>\n",
       "      <td>0</td>\n",
       "      <td>27.0</td>\n",
       "      <td>64.0</td>\n",
       "      <td>111.0</td>\n",
       "      <td>1</td>\n",
       "    </tr>\n",
       "    <tr>\n",
       "      <th>458</th>\n",
       "      <td>85</td>\n",
       "      <td>258.0</td>\n",
       "      <td>0</td>\n",
       "      <td>41.0</td>\n",
       "      <td>67.0</td>\n",
       "      <td>399.0</td>\n",
       "      <td>0</td>\n",
       "    </tr>\n",
       "    <tr>\n",
       "      <th>493</th>\n",
       "      <td>115</td>\n",
       "      <td>290.0</td>\n",
       "      <td>1</td>\n",
       "      <td>19.0</td>\n",
       "      <td>65.0</td>\n",
       "      <td>118.0</td>\n",
       "      <td>0</td>\n",
       "    </tr>\n",
       "    <tr>\n",
       "      <th>549</th>\n",
       "      <td>122</td>\n",
       "      <td>292.0</td>\n",
       "      <td>1</td>\n",
       "      <td>25.0</td>\n",
       "      <td>65.0</td>\n",
       "      <td>125.0</td>\n",
       "      <td>0</td>\n",
       "    </tr>\n",
       "    <tr>\n",
       "      <th>559</th>\n",
       "      <td>124</td>\n",
       "      <td>285.0</td>\n",
       "      <td>1</td>\n",
       "      <td>27.0</td>\n",
       "      <td>63.0</td>\n",
       "      <td>114.0</td>\n",
       "      <td>0</td>\n",
       "    </tr>\n",
       "    <tr>\n",
       "      <th>565</th>\n",
       "      <td>153</td>\n",
       "      <td>297.0</td>\n",
       "      <td>0</td>\n",
       "      <td>27.0</td>\n",
       "      <td>66.0</td>\n",
       "      <td>145.0</td>\n",
       "      <td>0</td>\n",
       "    </tr>\n",
       "    <tr>\n",
       "      <th>601</th>\n",
       "      <td>85</td>\n",
       "      <td>270.0</td>\n",
       "      <td>1</td>\n",
       "      <td>19.0</td>\n",
       "      <td>63.0</td>\n",
       "      <td>118.0</td>\n",
       "      <td>1</td>\n",
       "    </tr>\n",
       "    <tr>\n",
       "      <th>633</th>\n",
       "      <td>143</td>\n",
       "      <td>294.0</td>\n",
       "      <td>0</td>\n",
       "      <td>44.0</td>\n",
       "      <td>65.0</td>\n",
       "      <td>145.0</td>\n",
       "      <td>0</td>\n",
       "    </tr>\n",
       "    <tr>\n",
       "      <th>647</th>\n",
       "      <td>93</td>\n",
       "      <td>270.0</td>\n",
       "      <td>0</td>\n",
       "      <td>25.0</td>\n",
       "      <td>64.0</td>\n",
       "      <td>125.0</td>\n",
       "      <td>1</td>\n",
       "    </tr>\n",
       "    <tr>\n",
       "      <th>664</th>\n",
       "      <td>127</td>\n",
       "      <td>288.0</td>\n",
       "      <td>1</td>\n",
       "      <td>20.0</td>\n",
       "      <td>65.0</td>\n",
       "      <td>115.0</td>\n",
       "      <td>1</td>\n",
       "    </tr>\n",
       "    <tr>\n",
       "      <th>676</th>\n",
       "      <td>100</td>\n",
       "      <td>275.0</td>\n",
       "      <td>0</td>\n",
       "      <td>26.0</td>\n",
       "      <td>60.0</td>\n",
       "      <td>115.0</td>\n",
       "      <td>0</td>\n",
       "    </tr>\n",
       "    <tr>\n",
       "      <th>772</th>\n",
       "      <td>112</td>\n",
       "      <td>277.0</td>\n",
       "      <td>1</td>\n",
       "      <td>23.0</td>\n",
       "      <td>64.0</td>\n",
       "      <td>118.0</td>\n",
       "      <td>0</td>\n",
       "    </tr>\n",
       "    <tr>\n",
       "      <th>782</th>\n",
       "      <td>148</td>\n",
       "      <td>286.0</td>\n",
       "      <td>0</td>\n",
       "      <td>38.0</td>\n",
       "      <td>68.0</td>\n",
       "      <td>160.0</td>\n",
       "      <td>0</td>\n",
       "    </tr>\n",
       "    <tr>\n",
       "      <th>796</th>\n",
       "      <td>152</td>\n",
       "      <td>286.0</td>\n",
       "      <td>1</td>\n",
       "      <td>19.0</td>\n",
       "      <td>67.0</td>\n",
       "      <td>135.0</td>\n",
       "      <td>0</td>\n",
       "    </tr>\n",
       "    <tr>\n",
       "      <th>902</th>\n",
       "      <td>112</td>\n",
       "      <td>292.0</td>\n",
       "      <td>1</td>\n",
       "      <td>28.0</td>\n",
       "      <td>62.0</td>\n",
       "      <td>110.0</td>\n",
       "      <td>1</td>\n",
       "    </tr>\n",
       "    <tr>\n",
       "      <th>911</th>\n",
       "      <td>138</td>\n",
       "      <td>280.0</td>\n",
       "      <td>1</td>\n",
       "      <td>30.0</td>\n",
       "      <td>65.0</td>\n",
       "      <td>478.0</td>\n",
       "      <td>0</td>\n",
       "    </tr>\n",
       "    <tr>\n",
       "      <th>912</th>\n",
       "      <td>58</td>\n",
       "      <td>245.0</td>\n",
       "      <td>0</td>\n",
       "      <td>34.0</td>\n",
       "      <td>64.0</td>\n",
       "      <td>156.0</td>\n",
       "      <td>1</td>\n",
       "    </tr>\n",
       "    <tr>\n",
       "      <th>918</th>\n",
       "      <td>142</td>\n",
       "      <td>284.0</td>\n",
       "      <td>1</td>\n",
       "      <td>31.0</td>\n",
       "      <td>66.0</td>\n",
       "      <td>137.0</td>\n",
       "      <td>1</td>\n",
       "    </tr>\n",
       "    <tr>\n",
       "      <th>942</th>\n",
       "      <td>89</td>\n",
       "      <td>275.0</td>\n",
       "      <td>0</td>\n",
       "      <td>34.0</td>\n",
       "      <td>66.0</td>\n",
       "      <td>170.0</td>\n",
       "      <td>0</td>\n",
       "    </tr>\n",
       "    <tr>\n",
       "      <th>966</th>\n",
       "      <td>120</td>\n",
       "      <td>283.0</td>\n",
       "      <td>0</td>\n",
       "      <td>28.0</td>\n",
       "      <td>64.0</td>\n",
       "      <td>122.0</td>\n",
       "      <td>1</td>\n",
       "    </tr>\n",
       "    <tr>\n",
       "      <th>980</th>\n",
       "      <td>123</td>\n",
       "      <td>283.0</td>\n",
       "      <td>0</td>\n",
       "      <td>21.0</td>\n",
       "      <td>65.0</td>\n",
       "      <td>110.0</td>\n",
       "      <td>0</td>\n",
       "    </tr>\n",
       "    <tr>\n",
       "      <th>1066</th>\n",
       "      <td>118</td>\n",
       "      <td>279.0</td>\n",
       "      <td>1</td>\n",
       "      <td>21.0</td>\n",
       "      <td>64.0</td>\n",
       "      <td>108.0</td>\n",
       "      <td>0</td>\n",
       "    </tr>\n",
       "    <tr>\n",
       "      <th>1079</th>\n",
       "      <td>119</td>\n",
       "      <td>286.0</td>\n",
       "      <td>1</td>\n",
       "      <td>33.0</td>\n",
       "      <td>67.0</td>\n",
       "      <td>137.0</td>\n",
       "      <td>0</td>\n",
       "    </tr>\n",
       "    <tr>\n",
       "      <th>1209</th>\n",
       "      <td>144</td>\n",
       "      <td>283.0</td>\n",
       "      <td>1</td>\n",
       "      <td>25.0</td>\n",
       "      <td>66.0</td>\n",
       "      <td>140.0</td>\n",
       "      <td>0</td>\n",
       "    </tr>\n",
       "    <tr>\n",
       "      <th>1229</th>\n",
       "      <td>127</td>\n",
       "      <td>290.0</td>\n",
       "      <td>0</td>\n",
       "      <td>27.0</td>\n",
       "      <td>65.0</td>\n",
       "      <td>121.0</td>\n",
       "      <td>0</td>\n",
       "    </tr>\n",
       "  </tbody>\n",
       "</table>\n",
       "</div>"
      ],
      "text/plain": [
       "      bwt  gestation  parity   age  height  weight  smoke\n",
       "15    115      285.0       0  38.0    63.0   130.0      0\n",
       "24    131      294.0       0  23.0    65.0   122.0      0\n",
       "94     85      278.0       0  23.0    61.0   103.0      1\n",
       "127    94      267.0       0  30.0    62.0   120.0      1\n",
       "135   117      258.0       0  31.0    64.0   120.0      0\n",
       "162   125      262.0       0  36.0    66.0   190.0      0\n",
       "176   134      267.0       0  30.0    66.0   170.0      0\n",
       "197   118      276.0       0  22.0    66.0   147.0      1\n",
       "199   137      291.0       0  34.0    61.0   110.0      0\n",
       "241   114      278.0       0  25.0    65.0   140.0      1\n",
       "262   124      287.0       0  27.0    62.0   105.0      1\n",
       "309    71      281.0       0  32.0    60.0   117.0      1\n",
       "338   111      270.0       0  22.0    59.0   103.0      0\n",
       "371   124      294.0       0  26.0    62.0   122.0      0\n",
       "442   100      275.0       0  27.0    64.0   111.0      1\n",
       "458    85      258.0       0  41.0    67.0   399.0      0\n",
       "493   115      290.0       1  19.0    65.0   118.0      0\n",
       "549   122      292.0       1  25.0    65.0   125.0      0\n",
       "559   124      285.0       1  27.0    63.0   114.0      0\n",
       "565   153      297.0       0  27.0    66.0   145.0      0\n",
       "601    85      270.0       1  19.0    63.0   118.0      1\n",
       "633   143      294.0       0  44.0    65.0   145.0      0\n",
       "647    93      270.0       0  25.0    64.0   125.0      1\n",
       "664   127      288.0       1  20.0    65.0   115.0      1\n",
       "676   100      275.0       0  26.0    60.0   115.0      0\n",
       "772   112      277.0       1  23.0    64.0   118.0      0\n",
       "782   148      286.0       0  38.0    68.0   160.0      0\n",
       "796   152      286.0       1  19.0    67.0   135.0      0\n",
       "902   112      292.0       1  28.0    62.0   110.0      1\n",
       "911   138      280.0       1  30.0    65.0   478.0      0\n",
       "912    58      245.0       0  34.0    64.0   156.0      1\n",
       "918   142      284.0       1  31.0    66.0   137.0      1\n",
       "942    89      275.0       0  34.0    66.0   170.0      0\n",
       "966   120      283.0       0  28.0    64.0   122.0      1\n",
       "980   123      283.0       0  21.0    65.0   110.0      0\n",
       "1066  118      279.0       1  21.0    64.0   108.0      0\n",
       "1079  119      286.0       1  33.0    67.0   137.0      0\n",
       "1209  144      283.0       1  25.0    66.0   140.0      0\n",
       "1229  127      290.0       0  27.0    65.0   121.0      0"
      ]
     },
     "execution_count": 56,
     "metadata": {},
     "output_type": "execute_result"
    }
   ],
   "source": [
    "bbn.iloc[[ 14,   23,   88,  117,  125,  149,  162,  181,  183,  222,  240,\n",
    "             287,  314,  344,  411,  426,  458,  512,  522,  528,  563,  595,\n",
    "             608,  622,  632,  723,  733,  747,  849,  858,  859,  865,  888,\n",
    "             911,  924, 1008, 1021, 1148, 1167]]"
   ]
  },
  {
   "cell_type": "markdown",
   "id": "92b59a17",
   "metadata": {},
   "source": [
    "7. Describe the characteristics of your qualitative variables by doing the following:\n",
    "\n",
    "    * Determine the frequencies of each group within each categorical variable. Which groups have the highest frequency?\n",
    "    * Determine the relative frequencies of each group within each categorical variable. Which groups have the highest relative frequencies?\n",
    "    * Create a crosstab table using both the categorical variables in your dataset. How many mothers are smokers who have been pregnant before?"
   ]
  },
  {
   "cell_type": "code",
   "execution_count": 57,
   "id": "371d5497",
   "metadata": {},
   "outputs": [
    {
     "data": {
      "text/plain": [
       "no     866\n",
       "yes    308\n",
       "Name: parity, dtype: int64"
      ]
     },
     "execution_count": 57,
     "metadata": {},
     "output_type": "execute_result"
    }
   ],
   "source": [
    "#Frequencies\n",
    "bb[\"parity\"].value_counts()"
   ]
  },
  {
   "cell_type": "code",
   "execution_count": 58,
   "id": "fca2d9ed",
   "metadata": {},
   "outputs": [
    {
     "data": {
      "text/plain": [
       "nonsmoker    715\n",
       "smoker       459\n",
       "Name: smoke, dtype: int64"
      ]
     },
     "execution_count": 58,
     "metadata": {},
     "output_type": "execute_result"
    }
   ],
   "source": [
    "bb[\"smoke\"].value_counts()"
   ]
  },
  {
   "cell_type": "code",
   "execution_count": 59,
   "id": "43c40070",
   "metadata": {},
   "outputs": [
    {
     "data": {
      "text/plain": [
       "no     0.737649\n",
       "yes    0.262351\n",
       "Name: parity, dtype: float64"
      ]
     },
     "execution_count": 59,
     "metadata": {},
     "output_type": "execute_result"
    }
   ],
   "source": [
    "## Relative frequencies\n",
    "bb[\"parity\"].value_counts(normalize = True)"
   ]
  },
  {
   "cell_type": "code",
   "execution_count": 60,
   "id": "acaa243d",
   "metadata": {},
   "outputs": [
    {
     "data": {
      "text/plain": [
       "nonsmoker    0.609029\n",
       "smoker       0.390971\n",
       "Name: smoke, dtype: float64"
      ]
     },
     "execution_count": 60,
     "metadata": {},
     "output_type": "execute_result"
    }
   ],
   "source": [
    "bb[\"smoke\"].value_counts(normalize = True)"
   ]
  },
  {
   "cell_type": "code",
   "execution_count": 61,
   "id": "1184f73d",
   "metadata": {},
   "outputs": [
    {
     "data": {
      "text/html": [
       "<div>\n",
       "<style scoped>\n",
       "    .dataframe tbody tr th:only-of-type {\n",
       "        vertical-align: middle;\n",
       "    }\n",
       "\n",
       "    .dataframe tbody tr th {\n",
       "        vertical-align: top;\n",
       "    }\n",
       "\n",
       "    .dataframe thead th {\n",
       "        text-align: right;\n",
       "    }\n",
       "</style>\n",
       "<table border=\"1\" class=\"dataframe\">\n",
       "  <thead>\n",
       "    <tr style=\"text-align: right;\">\n",
       "      <th>smoke</th>\n",
       "      <th>nonsmoker</th>\n",
       "      <th>smoker</th>\n",
       "    </tr>\n",
       "    <tr>\n",
       "      <th>parity</th>\n",
       "      <th></th>\n",
       "      <th></th>\n",
       "    </tr>\n",
       "  </thead>\n",
       "  <tbody>\n",
       "    <tr>\n",
       "      <th>no</th>\n",
       "      <td>525</td>\n",
       "      <td>341</td>\n",
       "    </tr>\n",
       "    <tr>\n",
       "      <th>yes</th>\n",
       "      <td>190</td>\n",
       "      <td>118</td>\n",
       "    </tr>\n",
       "  </tbody>\n",
       "</table>\n",
       "</div>"
      ],
      "text/plain": [
       "smoke   nonsmoker  smoker\n",
       "parity                   \n",
       "no            525     341\n",
       "yes           190     118"
      ]
     },
     "execution_count": 61,
     "metadata": {},
     "output_type": "execute_result"
    }
   ],
   "source": [
    "## a crosstab table using both the categorical variables \n",
    "pd.crosstab(bb[\"parity\"], bb[\"smoke\"], normalize = False, margins = False)"
   ]
  },
  {
   "cell_type": "markdown",
   "id": "dfac25c7",
   "metadata": {},
   "source": [
    "8. Describe the Measures of Central Tendency (mean, median, mode) of the numeric variables in the dataset. Calculate the mean, median, and mode for all 5 numeric variables. For each median and mode, describe the following:\n",
    "\n",
    "    * What does the median value tell you about the data?\n",
    "    * What does the mode value tell you about the data?"
   ]
  },
  {
   "cell_type": "code",
   "execution_count": 62,
   "id": "994afbbb",
   "metadata": {},
   "outputs": [
    {
     "name": "stdout",
     "output_type": "stream",
     "text": [
      "The mean of 'bwt' is : 119.46252129471891\n",
      "The mean of 'gestation' is : 279.1013628620102\n",
      "The mean of 'age' is : 27.228279386712096\n",
      "The mean of 'height' is : 64.04940374787053\n",
      "The mean of 'weight' is : 131.32623509369677\n",
      " \n",
      "The mode of 'bwt' is : 0    115\n",
      "dtype: int64\n",
      "The mode of 'gestation' is : 0    282.0\n",
      "dtype: float64\n",
      "The mode of 'age' is : 0    23.0\n",
      "dtype: float64\n",
      "The mode of 'height' is : 0    64.0\n",
      "dtype: float64\n",
      "The mode of 'weight' is : 0    130.0\n",
      "dtype: float64\n",
      " \n",
      "The median of 'bwt' is : 120.0\n",
      "The median of 'gestation' is : 120.0\n",
      "The median of 'age' is : 120.0\n",
      "The median of 'height' is : 120.0\n",
      "The median of 'weight' is : 120.0\n"
     ]
    }
   ],
   "source": [
    "## Calculating the Measures of Central Tendency\n",
    "\n",
    "#mean\n",
    "meanb = bb[\"bwt\"].mean()\n",
    "meang = bb[\"gestation\"].mean()\n",
    "meana = bb[\"age\"].mean()\n",
    "meanh = bb[\"height\"].mean()\n",
    "meanw = bb[\"weight\"].mean()\n",
    "\n",
    "print(\"The mean of 'bwt' is :\", meanb)\n",
    "print(\"The mean of 'gestation' is :\", meang)\n",
    "print(\"The mean of 'age' is :\", meana)\n",
    "print(\"The mean of 'height' is :\", meanh)\n",
    "print(\"The mean of 'weight' is :\", meanw)\n",
    "print(\" \")\n",
    "\n",
    "#mode\n",
    "modeb = bb['bwt'].mode()\n",
    "modeg = bb['gestation'].mode()\n",
    "modea = bb['age'].mode()\n",
    "modeh = bb['height'].mode()\n",
    "modew = bb['weight'].mode()\n",
    "\n",
    "print(\"The mode of 'bwt' is :\", modeb)\n",
    "print(\"The mode of 'gestation' is :\", modeg)\n",
    "print(\"The mode of 'age' is :\", modea)\n",
    "print(\"The mode of 'height' is :\", modeh)\n",
    "print(\"The mode of 'weight' is :\", modew)\n",
    "print(\" \")\n",
    "\n",
    "#median\n",
    "medianb = bb['bwt'].median()\n",
    "mediang = bb['gestation'].median()\n",
    "mediana = bb['age'].median()\n",
    "medianh = bb['height'].median()\n",
    "medianw = bb['weight'].median()\n",
    "\n",
    "print(\"The median of 'bwt' is :\", medianb)\n",
    "print(\"The median of 'gestation' is :\", medianb)\n",
    "print(\"The median of 'age' is :\", medianb)\n",
    "print(\"The median of 'height' is :\", medianb)\n",
    "print(\"The median of 'weight' is :\", medianb)"
   ]
  },
  {
   "cell_type": "code",
   "execution_count": 63,
   "id": "b0f81d59",
   "metadata": {},
   "outputs": [],
   "source": [
    "# The avg birth weight of newborn baby is 119.5 lbs\n",
    "# The avg gestation length is 279 weeks\n",
    "# The avg age of mother is 27\n",
    "# The avg height of mother is 64 inches\n",
    "# The avg weight of mother is 131 lbs\n",
    "\n",
    "## Respectively, the values that occurs the most in columns \"bwt\", \"gestation\", \"age\", \"height\" and \"weight\"\n",
    "## are \"blanks\" (all across), and 115, 282, 23, 64, and 130\n",
    "\n",
    "### 120 is the center value in all 5 categorical variables' set."
   ]
  },
  {
   "cell_type": "markdown",
   "id": "6238626d",
   "metadata": {},
   "source": [
    "9. Describe the Measures of Variability of the numeric variables in the dataset. Calculate the range, standard deviation, and 85th percentile for all 5 numeric variables. Answer the following questions:\n",
    "\n",
    "    * Which column has the largest range? Which has the smallest? What does this mean?\n",
    "    * Which column has the largest standard deviation? Which has the smallest? What does this tell you about those variables?"
   ]
  },
  {
   "cell_type": "code",
   "execution_count": 64,
   "id": "ce49bd8c",
   "metadata": {},
   "outputs": [
    {
     "name": "stdout",
     "output_type": "stream",
     "text": [
      "\t\tThe Range\n",
      "The range of weight in 'birth weight of newborn baby': 176 - 55 = 121\n",
      "The range of weeks in 'gestation length': 353.0 - 148.0 = 205.0\n",
      "The range of age in 'age of mother': 45.0 - 15.0 = 30.0\n",
      "The range of height in 'height of mother':72.0 - 53.0 = 19.0\n",
      "The range of weight in 'weight of mother': 1500.0 - 27.0 = 1473.0\n",
      " \n",
      "\t\tThe Standard deviation\n",
      "The standard deviation 'bwt': 18.32867144332098\n",
      "The standard deviation 'gestation': 16.010305127129392\n",
      "The standard deviation 'age ': 5.817838716855792\n",
      "The standard deviation 'height': 2.5261015226020365\n",
      "The standard deviation 'weight': 54.1038284756229\n",
      " \n",
      "\t\tThe 85th Percentile\n",
      "138.0 falls at the 85th percentile of 'bwt'\n",
      "      which means that 85% of the values in 'bwt 'are below 138.0 lbs , 15% are above 138.0 lbs\n",
      "292.0 falls at the 85th percentile of 'gestation'\n",
      "      which means that 85% of the values in 'gestation' are below 292.0 lbs , 15% are above 292.0 lbs\n",
      "34.0 falls at the 85th percentile of 'age'\n",
      "      which means that 85% of the values in 'age'are below 34.0 years of age , 15% are above 34.0 years old\n",
      "67.0 falls at the 85th percentile of 'height'\n",
      "      which means that 85% of the values in 'height'are below 67.0 inches , 15% are above 67.0 inches\n",
      "148.0 falls at the 85th percentile of 'weight'\n",
      "      which means that 85% of the values in 'weight'are below 148.0 lbs , 15% are above 148.0 lbs\n"
     ]
    }
   ],
   "source": [
    "# Range\n",
    "bwt_range = bb['bwt'].max() - bb['bwt'].min()\n",
    "gestation_range = bb['gestation'].max() - bb['gestation'].min()\n",
    "age_range = bb['age'].max() - bb['age'].min()\n",
    "height_range = bb['height'].max() - bb['height'].min()\n",
    "weight_range = bb['weight'].max() - bb['weight'].min()\n",
    "\n",
    "print(\"\\t\\tThe Range\")\n",
    "print(f\"The range of weight in 'birth weight of newborn baby': {bb['bwt'].max()} - {bb['bwt'].min()} = {bwt_range}\")\n",
    "print(f\"The range of weeks in 'gestation length': {bb['gestation'].max()} - {bb['gestation'].min()} = {gestation_range}\")\n",
    "print(f\"The range of age in 'age of mother': {bb['age'].max()} - {bb['age'].min()} = {age_range}\")\n",
    "print(f\"The range of height in 'height of mother':{bb['height'].max()} - {bb['height'].min()} = {height_range}\" )\n",
    "print(f\"The range of weight in 'weight of mother': {bb['weight'].max()} - {bb['weight'].min()} = {weight_range}\")\n",
    "print(\" \")\n",
    "\n",
    "# Standard Deviation\n",
    "stdb = bb[\"bwt\"].std()\n",
    "stdg = bb[\"gestation\"].std()\n",
    "stda = bb[\"age\"].std()\n",
    "stdh = bb[\"height\"].std()\n",
    "stdw = bb[\"weight\"].std()\n",
    "\n",
    "print(\"\\t\\tThe Standard deviation\")\n",
    "print(\"The standard deviation 'bwt':\", stdb)\n",
    "print(\"The standard deviation 'gestation':\", stdg)\n",
    "print(\"The standard deviation 'age ':\", stda)\n",
    "print(\"The standard deviation 'height':\", stdh)\n",
    "print(\"The standard deviation 'weight':\", stdw)\n",
    "print(\" \")\n",
    "\n",
    "# 85th Percentile\n",
    "percb = np.percentile(bb['bwt'], 85)\n",
    "percg = np.percentile(bb['gestation'], 85)\n",
    "perca = np.percentile(bb['age'], 85)\n",
    "perch = np.percentile(bb['height'], 85)\n",
    "percw = np.percentile(bb['weight'], 85)\n",
    "\n",
    "print(\"\\t\\tThe 85th Percentile\")\n",
    "print(f\"\"\"{percb} falls at the 85th percentile of 'bwt'\n",
    "      which means that 85% of the values in 'bwt 'are below {percb} lbs , 15% are above {percb} lbs\"\"\")\n",
    "print(f\"\"\"{percg} falls at the 85th percentile of 'gestation'\n",
    "      which means that 85% of the values in 'gestation' are below {percg} lbs , 15% are above {percg} lbs\"\"\")\n",
    "print(f\"\"\"{perca} falls at the 85th percentile of 'age'\n",
    "      which means that 85% of the values in 'age'are below {perca} years of age , 15% are above {perca} years old\"\"\")\n",
    "print(f\"\"\"{perch} falls at the 85th percentile of 'height'\n",
    "      which means that 85% of the values in 'height'are below {perch} inches , 15% are above {perch} inches\"\"\")\n",
    "print(f\"\"\"{percw} falls at the 85th percentile of 'weight'\n",
    "      which means that 85% of the values in 'weight'are below {percw} lbs , 15% are above {percw} lbs\"\"\")"
   ]
  },
  {
   "cell_type": "code",
   "execution_count": 65,
   "id": "cf0f2701",
   "metadata": {},
   "outputs": [],
   "source": [
    "###Which column has the largest range? Which has the smallest? What does this mean?\n",
    "# The \"weight of mother\" column has the largest range, whereas \"age of mother\" has the smallest one.\n",
    "# it means that there is a large diff between the highest and lowest values in column \"weight of mother\"\n",
    "# and the opposite is the truth for column \"age of mother\"\n",
    "\n",
    "###Which column has the largest standard deviation? Which has the smallest? What does this tell you about those variables?\n",
    "\n",
    "# column \"weight of mother\" has the largest std, which indicates that the data points in the set is spread out over a wider range of values.\n",
    "# The opposite is noticed in column \"height of mother\" where the data points are clustered around the mean."
   ]
  },
  {
   "cell_type": "code",
   "execution_count": null,
   "id": "42eba51f",
   "metadata": {},
   "outputs": [],
   "source": []
  },
  {
   "cell_type": "code",
   "execution_count": null,
   "id": "0222b5af",
   "metadata": {},
   "outputs": [],
   "source": []
  }
 ],
 "metadata": {
  "kernelspec": {
   "display_name": "Python 3 (ipykernel)",
   "language": "python",
   "name": "python3"
  },
  "language_info": {
   "codemirror_mode": {
    "name": "ipython",
    "version": 3
   },
   "file_extension": ".py",
   "mimetype": "text/x-python",
   "name": "python",
   "nbconvert_exporter": "python",
   "pygments_lexer": "ipython3",
   "version": "3.9.7"
  }
 },
 "nbformat": 4,
 "nbformat_minor": 5
}
